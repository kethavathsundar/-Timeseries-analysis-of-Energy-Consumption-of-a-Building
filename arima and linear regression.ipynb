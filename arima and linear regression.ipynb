{
 "cells": [
  {
   "cell_type": "code",
   "execution_count": 1,
   "id": "d01bfa80",
   "metadata": {},
   "outputs": [],
   "source": [
    "import pandas as pd\n",
    "import numpy as np\n",
    "import matplotlib.pyplot as plt\n",
    "from statsmodels.tsa.arima_model import ARIMA\n"
   ]
  },
  {
   "cell_type": "code",
   "execution_count": 2,
   "id": "56ffb737",
   "metadata": {},
   "outputs": [],
   "source": [
    "df = pd.read_csv('Floor2.csv', index_col='Date', parse_dates=True)\n"
   ]
  },
  {
   "cell_type": "code",
   "execution_count": 3,
   "id": "794a4699",
   "metadata": {},
   "outputs": [
    {
     "data": {
      "text/html": [
       "<div>\n",
       "<style scoped>\n",
       "    .dataframe tbody tr th:only-of-type {\n",
       "        vertical-align: middle;\n",
       "    }\n",
       "\n",
       "    .dataframe tbody tr th {\n",
       "        vertical-align: top;\n",
       "    }\n",
       "\n",
       "    .dataframe thead th {\n",
       "        text-align: right;\n",
       "    }\n",
       "</style>\n",
       "<table border=\"1\" class=\"dataframe\">\n",
       "  <thead>\n",
       "    <tr style=\"text-align: right;\">\n",
       "      <th></th>\n",
       "      <th>lights</th>\n",
       "      <th>acs</th>\n",
       "      <th>plug</th>\n",
       "    </tr>\n",
       "  </thead>\n",
       "  <tbody>\n",
       "  </tbody>\n",
       "</table>\n",
       "</div>"
      ],
      "text/plain": [
       "Empty DataFrame\n",
       "Columns: [lights, acs, plug]\n",
       "Index: []"
      ]
     },
     "execution_count": 3,
     "metadata": {},
     "output_type": "execute_result"
    }
   ],
   "source": [
    "final_df=pd.DataFrame(columns=['lights','acs','plug'])\n",
    "final_df"
   ]
  },
  {
   "cell_type": "code",
   "execution_count": 4,
   "id": "7630892d",
   "metadata": {},
   "outputs": [],
   "source": [
    "final_df['lights']=df['z1_Light(kW)']+df['z2_Light(kW)']+df['z3_Light(kW)']+df['z4_Light(kW)']\n",
    "final_df['acs']=df['z2_AC1(kW)']+df['z2_AC2(kW)']+df['z2_AC3(kW)']+df['z2_AC4(kW)']\n",
    "final_df['plug']=df['z1_Plug(kW)']+df['z2_Plug(kW)']+df['z3_Plug(kW)']"
   ]
  },
  {
   "cell_type": "code",
   "execution_count": 5,
   "id": "f340abfe",
   "metadata": {},
   "outputs": [],
   "source": [
    "final_df['Power_consumption']=final_df['lights']+final_df['acs']+final_df['plug']\n"
   ]
  },
  {
   "cell_type": "code",
   "execution_count": 6,
   "id": "a416cc67",
   "metadata": {},
   "outputs": [],
   "source": [
    "final_df=final_df.fillna(final_df.mean())"
   ]
  },
  {
   "cell_type": "code",
   "execution_count": 31,
   "id": "c3136d20",
   "metadata": {},
   "outputs": [
    {
     "data": {
      "text/html": [
       "<div>\n",
       "<style scoped>\n",
       "    .dataframe tbody tr th:only-of-type {\n",
       "        vertical-align: middle;\n",
       "    }\n",
       "\n",
       "    .dataframe tbody tr th {\n",
       "        vertical-align: top;\n",
       "    }\n",
       "\n",
       "    .dataframe thead th {\n",
       "        text-align: right;\n",
       "    }\n",
       "</style>\n",
       "<table border=\"1\" class=\"dataframe\">\n",
       "  <thead>\n",
       "    <tr style=\"text-align: right;\">\n",
       "      <th></th>\n",
       "      <th>lights</th>\n",
       "      <th>acs</th>\n",
       "      <th>plug</th>\n",
       "      <th>Power_consumption</th>\n",
       "    </tr>\n",
       "    <tr>\n",
       "      <th>Date</th>\n",
       "      <th></th>\n",
       "      <th></th>\n",
       "      <th></th>\n",
       "      <th></th>\n",
       "    </tr>\n",
       "  </thead>\n",
       "  <tbody>\n",
       "    <tr>\n",
       "      <th>2018-07-01 00:00:00</th>\n",
       "      <td>73.675167</td>\n",
       "      <td>45.472833</td>\n",
       "      <td>36.477000</td>\n",
       "      <td>155.625000</td>\n",
       "    </tr>\n",
       "    <tr>\n",
       "      <th>2018-07-01 01:00:00</th>\n",
       "      <td>73.970167</td>\n",
       "      <td>45.849500</td>\n",
       "      <td>36.867333</td>\n",
       "      <td>156.687000</td>\n",
       "    </tr>\n",
       "    <tr>\n",
       "      <th>2018-07-01 02:00:00</th>\n",
       "      <td>73.782667</td>\n",
       "      <td>45.831833</td>\n",
       "      <td>36.668000</td>\n",
       "      <td>156.282500</td>\n",
       "    </tr>\n",
       "    <tr>\n",
       "      <th>2018-07-01 03:00:00</th>\n",
       "      <td>73.122167</td>\n",
       "      <td>45.616667</td>\n",
       "      <td>35.607667</td>\n",
       "      <td>154.346500</td>\n",
       "    </tr>\n",
       "    <tr>\n",
       "      <th>2018-07-01 04:00:00</th>\n",
       "      <td>83.146000</td>\n",
       "      <td>45.502833</td>\n",
       "      <td>33.766000</td>\n",
       "      <td>162.414833</td>\n",
       "    </tr>\n",
       "    <tr>\n",
       "      <th>...</th>\n",
       "      <td>...</td>\n",
       "      <td>...</td>\n",
       "      <td>...</td>\n",
       "      <td>...</td>\n",
       "    </tr>\n",
       "    <tr>\n",
       "      <th>2019-12-31 19:00:00</th>\n",
       "      <td>68.292167</td>\n",
       "      <td>23.921333</td>\n",
       "      <td>19.171833</td>\n",
       "      <td>111.385333</td>\n",
       "    </tr>\n",
       "    <tr>\n",
       "      <th>2019-12-31 20:00:00</th>\n",
       "      <td>68.485333</td>\n",
       "      <td>28.528000</td>\n",
       "      <td>19.147667</td>\n",
       "      <td>116.161000</td>\n",
       "    </tr>\n",
       "    <tr>\n",
       "      <th>2019-12-31 21:00:00</th>\n",
       "      <td>53.983000</td>\n",
       "      <td>22.726333</td>\n",
       "      <td>19.749833</td>\n",
       "      <td>96.459167</td>\n",
       "    </tr>\n",
       "    <tr>\n",
       "      <th>2019-12-31 22:00:00</th>\n",
       "      <td>44.870833</td>\n",
       "      <td>21.765000</td>\n",
       "      <td>20.190833</td>\n",
       "      <td>86.826667</td>\n",
       "    </tr>\n",
       "    <tr>\n",
       "      <th>2019-12-31 23:00:00</th>\n",
       "      <td>38.086667</td>\n",
       "      <td>22.838333</td>\n",
       "      <td>19.795833</td>\n",
       "      <td>80.720833</td>\n",
       "    </tr>\n",
       "  </tbody>\n",
       "</table>\n",
       "<p>13176 rows × 4 columns</p>\n",
       "</div>"
      ],
      "text/plain": [
       "                        lights        acs       plug  Power_consumption\n",
       "Date                                                                   \n",
       "2018-07-01 00:00:00  73.675167  45.472833  36.477000         155.625000\n",
       "2018-07-01 01:00:00  73.970167  45.849500  36.867333         156.687000\n",
       "2018-07-01 02:00:00  73.782667  45.831833  36.668000         156.282500\n",
       "2018-07-01 03:00:00  73.122167  45.616667  35.607667         154.346500\n",
       "2018-07-01 04:00:00  83.146000  45.502833  33.766000         162.414833\n",
       "...                        ...        ...        ...                ...\n",
       "2019-12-31 19:00:00  68.292167  23.921333  19.171833         111.385333\n",
       "2019-12-31 20:00:00  68.485333  28.528000  19.147667         116.161000\n",
       "2019-12-31 21:00:00  53.983000  22.726333  19.749833          96.459167\n",
       "2019-12-31 22:00:00  44.870833  21.765000  20.190833          86.826667\n",
       "2019-12-31 23:00:00  38.086667  22.838333  19.795833          80.720833\n",
       "\n",
       "[13176 rows x 4 columns]"
      ]
     },
     "execution_count": 31,
     "metadata": {},
     "output_type": "execute_result"
    }
   ],
   "source": [
    "df1=final_df.resample('h').mean()\n",
    "df1"
   ]
  },
  {
   "cell_type": "code",
   "execution_count": 32,
   "id": "857a4732",
   "metadata": {},
   "outputs": [
    {
     "name": "stdout",
     "output_type": "stream",
     "text": [
      "ADF Statistic: -11.689235496431126\n",
      "p-value: 1.6681664875543365e-21\n",
      "Critical Values: {'1%': -3.4308479883141025, '5%': -2.861760086995701, '10%': -2.5668871473939694}\n"
     ]
    }
   ],
   "source": [
    "from statsmodels.tsa.stattools import adfuller\n",
    "result = adfuller(df1['Power_consumption'])\n",
    "print('ADF Statistic:', result[0])\n",
    "print('p-value:', result[1])\n",
    "print('Critical Values:', result[4])"
   ]
  },
  {
   "cell_type": "code",
   "execution_count": 33,
   "id": "b3e1b343",
   "metadata": {},
   "outputs": [],
   "source": [
    "df2 = df1.diff().dropna()\n"
   ]
  },
  {
   "cell_type": "code",
   "execution_count": 34,
   "id": "8bc9a13f",
   "metadata": {},
   "outputs": [],
   "source": [
    "import statsmodels.api as sm"
   ]
  },
  {
   "cell_type": "code",
   "execution_count": 35,
   "id": "89fa07e2",
   "metadata": {},
   "outputs": [],
   "source": [
    "model = sm.tsa.arima.ARIMA(df1.Power_consumption, order=(1,1,1))\n",
    "result = model.fit()"
   ]
  },
  {
   "cell_type": "code",
   "execution_count": 36,
   "id": "b9ca7b79",
   "metadata": {},
   "outputs": [
    {
     "name": "stdout",
     "output_type": "stream",
     "text": [
      "                               SARIMAX Results                                \n",
      "==============================================================================\n",
      "Dep. Variable:      Power_consumption   No. Observations:                13176\n",
      "Model:                 ARIMA(1, 1, 1)   Log Likelihood              -58531.044\n",
      "Date:                Thu, 27 Apr 2023   AIC                         117068.087\n",
      "Time:                        12:48:18   BIC                         117090.546\n",
      "Sample:                    07-01-2018   HQIC                        117075.586\n",
      "                         - 12-31-2019                                         \n",
      "Covariance Type:                  opg                                         \n",
      "==============================================================================\n",
      "                 coef    std err          z      P>|z|      [0.025      0.975]\n",
      "------------------------------------------------------------------------------\n",
      "ar.L1          0.1415      0.029      4.816      0.000       0.084       0.199\n",
      "ma.L1          0.1621      0.030      5.481      0.000       0.104       0.220\n",
      "sigma2       422.9579      2.639    160.298      0.000     417.786     428.129\n",
      "===================================================================================\n",
      "Ljung-Box (L1) (Q):                   0.07   Jarque-Bera (JB):             21405.81\n",
      "Prob(Q):                              0.79   Prob(JB):                         0.00\n",
      "Heteroskedasticity (H):               0.99   Skew:                             0.70\n",
      "Prob(H) (two-sided):                  0.70   Kurtosis:                         9.08\n",
      "===================================================================================\n",
      "\n",
      "Warnings:\n",
      "[1] Covariance matrix calculated using the outer product of gradients (complex-step).\n"
     ]
    }
   ],
   "source": [
    "print(result.summary())"
   ]
  },
  {
   "cell_type": "code",
   "execution_count": 37,
   "id": "399605c3",
   "metadata": {},
   "outputs": [
    {
     "data": {
      "text/plain": [
       "<AxesSubplot:title={'center':'Density'}, ylabel='Density'>"
      ]
     },
     "execution_count": 37,
     "metadata": {},
     "output_type": "execute_result"
    },
    {
     "data": {
      "image/png": "[encoded data removed]",
      "text/plain": [
       "<Figure size 432x288 with 2 Axes>"
      ]
     },
     "metadata": {
      "needs_background": "light"
     },
     "output_type": "display_data"
    }
   ],
   "source": [
    "residuals = pd.DataFrame(result.resid)\n",
    "fig, ax = plt.subplots(1,2)\n",
    "residuals.plot(title='Residuals', ax=ax[0])\n",
    "residuals.plot(kind='kde', title='Density', ax=ax[1])"
   ]
  },
  {
   "cell_type": "code",
   "execution_count": 41,
   "id": "236177c0",
   "metadata": {},
   "outputs": [],
   "source": [
    "forecast = result.forecast(steps=13176)"
   ]
  },
  {
   "cell_type": "code",
   "execution_count": 42,
   "id": "b1976383",
   "metadata": {},
   "outputs": [
    {
     "data": {
      "image/png": "[encoded data removed]",
      "text/plain": [
       "<Figure size 432x288 with 1 Axes>"
      ]
     },
     "metadata": {
      "needs_background": "light"
     },
     "output_type": "display_data"
    }
   ],
   "source": [
    "plt.plot(forecast.index, forecast.values, color='red', label='Predictions')\n",
    "plt.plot(df1.index, df1.Power_consumption, color='blue', label='Actual')\n",
    "plt.legend()\n",
    "plt.show()"
   ]
  },
  {
   "cell_type": "code",
   "execution_count": 43,
   "id": "cb548bed",
   "metadata": {},
   "outputs": [
    {
     "name": "stdout",
     "output_type": "stream",
     "text": [
      "51.90743788867223\n"
     ]
    }
   ],
   "source": [
    "from sklearn.metrics import mean_squared_error\n",
    "from math import sqrt\n",
    "#test['z2_AC1(kW)'].mean()\n",
    "rmse=sqrt(mean_squared_error(forecast,df1['Power_consumption']))\n",
    "print(rmse)"
   ]
  },
  {
   "cell_type": "code",
   "execution_count": 44,
   "id": "5eee72b4",
   "metadata": {},
   "outputs": [],
   "source": [
    "df1['year'] = df1.index.year\n",
    "df1['month'] = df1.index.month\n",
    "df1['day'] = df1.index.day\n",
    "df1['hour']=df1.index.hour"
   ]
  },
  {
   "cell_type": "code",
   "execution_count": 45,
   "id": "52a42ae8",
   "metadata": {},
   "outputs": [],
   "source": [
    "from sklearn.linear_model import LinearRegression\n",
    "from sklearn.metrics import mean_squared_error"
   ]
  },
  {
   "cell_type": "code",
   "execution_count": 46,
   "id": "91e64110",
   "metadata": {},
   "outputs": [
    {
     "data": {
      "text/html": [
       "<div>\n",
       "<style scoped>\n",
       "    .dataframe tbody tr th:only-of-type {\n",
       "        vertical-align: middle;\n",
       "    }\n",
       "\n",
       "    .dataframe tbody tr th {\n",
       "        vertical-align: top;\n",
       "    }\n",
       "\n",
       "    .dataframe thead th {\n",
       "        text-align: right;\n",
       "    }\n",
       "</style>\n",
       "<table border=\"1\" class=\"dataframe\">\n",
       "  <thead>\n",
       "    <tr style=\"text-align: right;\">\n",
       "      <th></th>\n",
       "      <th>lights</th>\n",
       "      <th>acs</th>\n",
       "      <th>plug</th>\n",
       "      <th>Power_consumption</th>\n",
       "      <th>year</th>\n",
       "      <th>month</th>\n",
       "      <th>day</th>\n",
       "      <th>hour</th>\n",
       "    </tr>\n",
       "    <tr>\n",
       "      <th>Date</th>\n",
       "      <th></th>\n",
       "      <th></th>\n",
       "      <th></th>\n",
       "      <th></th>\n",
       "      <th></th>\n",
       "      <th></th>\n",
       "      <th></th>\n",
       "      <th></th>\n",
       "    </tr>\n",
       "  </thead>\n",
       "  <tbody>\n",
       "    <tr>\n",
       "      <th>2018-07-01 00:00:00</th>\n",
       "      <td>73.675167</td>\n",
       "      <td>45.472833</td>\n",
       "      <td>36.477000</td>\n",
       "      <td>155.625000</td>\n",
       "      <td>2018</td>\n",
       "      <td>7</td>\n",
       "      <td>1</td>\n",
       "      <td>0</td>\n",
       "    </tr>\n",
       "    <tr>\n",
       "      <th>2018-07-01 01:00:00</th>\n",
       "      <td>73.970167</td>\n",
       "      <td>45.849500</td>\n",
       "      <td>36.867333</td>\n",
       "      <td>156.687000</td>\n",
       "      <td>2018</td>\n",
       "      <td>7</td>\n",
       "      <td>1</td>\n",
       "      <td>1</td>\n",
       "    </tr>\n",
       "    <tr>\n",
       "      <th>2018-07-01 02:00:00</th>\n",
       "      <td>73.782667</td>\n",
       "      <td>45.831833</td>\n",
       "      <td>36.668000</td>\n",
       "      <td>156.282500</td>\n",
       "      <td>2018</td>\n",
       "      <td>7</td>\n",
       "      <td>1</td>\n",
       "      <td>2</td>\n",
       "    </tr>\n",
       "    <tr>\n",
       "      <th>2018-07-01 03:00:00</th>\n",
       "      <td>73.122167</td>\n",
       "      <td>45.616667</td>\n",
       "      <td>35.607667</td>\n",
       "      <td>154.346500</td>\n",
       "      <td>2018</td>\n",
       "      <td>7</td>\n",
       "      <td>1</td>\n",
       "      <td>3</td>\n",
       "    </tr>\n",
       "    <tr>\n",
       "      <th>2018-07-01 04:00:00</th>\n",
       "      <td>83.146000</td>\n",
       "      <td>45.502833</td>\n",
       "      <td>33.766000</td>\n",
       "      <td>162.414833</td>\n",
       "      <td>2018</td>\n",
       "      <td>7</td>\n",
       "      <td>1</td>\n",
       "      <td>4</td>\n",
       "    </tr>\n",
       "    <tr>\n",
       "      <th>...</th>\n",
       "      <td>...</td>\n",
       "      <td>...</td>\n",
       "      <td>...</td>\n",
       "      <td>...</td>\n",
       "      <td>...</td>\n",
       "      <td>...</td>\n",
       "      <td>...</td>\n",
       "      <td>...</td>\n",
       "    </tr>\n",
       "    <tr>\n",
       "      <th>2019-12-31 19:00:00</th>\n",
       "      <td>68.292167</td>\n",
       "      <td>23.921333</td>\n",
       "      <td>19.171833</td>\n",
       "      <td>111.385333</td>\n",
       "      <td>2019</td>\n",
       "      <td>12</td>\n",
       "      <td>31</td>\n",
       "      <td>19</td>\n",
       "    </tr>\n",
       "    <tr>\n",
       "      <th>2019-12-31 20:00:00</th>\n",
       "      <td>68.485333</td>\n",
       "      <td>28.528000</td>\n",
       "      <td>19.147667</td>\n",
       "      <td>116.161000</td>\n",
       "      <td>2019</td>\n",
       "      <td>12</td>\n",
       "      <td>31</td>\n",
       "      <td>20</td>\n",
       "    </tr>\n",
       "    <tr>\n",
       "      <th>2019-12-31 21:00:00</th>\n",
       "      <td>53.983000</td>\n",
       "      <td>22.726333</td>\n",
       "      <td>19.749833</td>\n",
       "      <td>96.459167</td>\n",
       "      <td>2019</td>\n",
       "      <td>12</td>\n",
       "      <td>31</td>\n",
       "      <td>21</td>\n",
       "    </tr>\n",
       "    <tr>\n",
       "      <th>2019-12-31 22:00:00</th>\n",
       "      <td>44.870833</td>\n",
       "      <td>21.765000</td>\n",
       "      <td>20.190833</td>\n",
       "      <td>86.826667</td>\n",
       "      <td>2019</td>\n",
       "      <td>12</td>\n",
       "      <td>31</td>\n",
       "      <td>22</td>\n",
       "    </tr>\n",
       "    <tr>\n",
       "      <th>2019-12-31 23:00:00</th>\n",
       "      <td>38.086667</td>\n",
       "      <td>22.838333</td>\n",
       "      <td>19.795833</td>\n",
       "      <td>80.720833</td>\n",
       "      <td>2019</td>\n",
       "      <td>12</td>\n",
       "      <td>31</td>\n",
       "      <td>23</td>\n",
       "    </tr>\n",
       "  </tbody>\n",
       "</table>\n",
       "<p>13176 rows × 8 columns</p>\n",
       "</div>"
      ],
      "text/plain": [
       "                        lights        acs       plug  Power_consumption  year  \\\n",
       "Date                                                                            \n",
       "2018-07-01 00:00:00  73.675167  45.472833  36.477000         155.625000  2018   \n",
       "2018-07-01 01:00:00  73.970167  45.849500  36.867333         156.687000  2018   \n",
       "2018-07-01 02:00:00  73.782667  45.831833  36.668000         156.282500  2018   \n",
       "2018-07-01 03:00:00  73.122167  45.616667  35.607667         154.346500  2018   \n",
       "2018-07-01 04:00:00  83.146000  45.502833  33.766000         162.414833  2018   \n",
       "...                        ...        ...        ...                ...   ...   \n",
       "2019-12-31 19:00:00  68.292167  23.921333  19.171833         111.385333  2019   \n",
       "2019-12-31 20:00:00  68.485333  28.528000  19.147667         116.161000  2019   \n",
       "2019-12-31 21:00:00  53.983000  22.726333  19.749833          96.459167  2019   \n",
       "2019-12-31 22:00:00  44.870833  21.765000  20.190833          86.826667  2019   \n",
       "2019-12-31 23:00:00  38.086667  22.838333  19.795833          80.720833  2019   \n",
       "\n",
       "                     month  day  hour  \n",
       "Date                                   \n",
       "2018-07-01 00:00:00      7    1     0  \n",
       "2018-07-01 01:00:00      7    1     1  \n",
       "2018-07-01 02:00:00      7    1     2  \n",
       "2018-07-01 03:00:00      7    1     3  \n",
       "2018-07-01 04:00:00      7    1     4  \n",
       "...                    ...  ...   ...  \n",
       "2019-12-31 19:00:00     12   31    19  \n",
       "2019-12-31 20:00:00     12   31    20  \n",
       "2019-12-31 21:00:00     12   31    21  \n",
       "2019-12-31 22:00:00     12   31    22  \n",
       "2019-12-31 23:00:00     12   31    23  \n",
       "\n",
       "[13176 rows x 8 columns]"
      ]
     },
     "execution_count": 46,
     "metadata": {},
     "output_type": "execute_result"
    }
   ],
   "source": [
    "df1"
   ]
  },
  {
   "cell_type": "code",
   "execution_count": 47,
   "id": "8e5b4d76",
   "metadata": {},
   "outputs": [],
   "source": [
    "train_size = int(len(df1) * 0.8)\n",
    "train_data, test_data = df1[:train_size], df1[train_size:]\n"
   ]
  },
  {
   "cell_type": "code",
   "execution_count": 48,
   "id": "00e32f02",
   "metadata": {},
   "outputs": [],
   "source": [
    "X_train = train_data[['year', 'month', 'day','hour']]\n",
    "y_train = train_data['Power_consumption']\n",
    "X_test = test_data[['year', 'month', 'day','hour']]\n",
    "y_test = test_data['Power_consumption']"
   ]
  },
  {
   "cell_type": "code",
   "execution_count": 49,
   "id": "058f597f",
   "metadata": {},
   "outputs": [
    {
     "data": {
      "text/plain": [
       "LinearRegression()"
      ]
     },
     "execution_count": 49,
     "metadata": {},
     "output_type": "execute_result"
    }
   ],
   "source": [
    "model1 = LinearRegression()\n",
    "model1.fit(X_train, y_train)"
   ]
  },
  {
   "cell_type": "code",
   "execution_count": 50,
   "id": "0d5c1248",
   "metadata": {},
   "outputs": [
    {
     "name": "stdout",
     "output_type": "stream",
     "text": [
      "Mean squared error: 1417.70\n"
     ]
    }
   ],
   "source": [
    "y_pred = model1.predict(X_test)\n",
    "mse = mean_squared_error(y_test, y_pred)\n",
    "print('Mean squared error: {:.2f}'.format(mse))\n"
   ]
  },
  {
   "cell_type": "code",
   "execution_count": 51,
   "id": "8a1e286c",
   "metadata": {},
   "outputs": [
    {
     "name": "stdout",
     "output_type": "stream",
     "text": [
      "Predicted value for new data: 116.82\n"
     ]
    }
   ],
   "source": [
    "new_data = pd.DataFrame({'year': [2020], 'month': [1], 'day': [1],'hour':[23]})\n",
    "y_pred = model1.predict(new_data)\n",
    "print('Predicted value for new data: {:.2f}'.format(y_pred[0]))"
   ]
  },
  {
   "cell_type": "code",
   "execution_count": null,
   "id": "f5ac7f50",
   "metadata": {},
   "outputs": [],
   "source": []
  },
  {
   "cell_type": "code",
   "execution_count": null,
   "id": "ffb520e0",
   "metadata": {},
   "outputs": [],
   "source": []
  },
  {
   "cell_type": "code",
   "execution_count": null,
   "id": "dbbaa3dc",
   "metadata": {},
   "outputs": [],
   "source": []
  },
  {
   "cell_type": "code",
   "execution_count": 1,
   "id": "8be9beaa",
   "metadata": {},
   "outputs": [],
   "source": [
    "import numpy as np # linear algebra\n",
    "import pandas as pd # data processing, CSV file I/O (e.g. pd.read_csv)\n",
    "\n",
    "import os\n",
    "import time\n",
    "\n",
    "import datetime as datetime\n",
    "\n",
    "from sklearn.preprocessing import LabelEncoder\n",
    "from sklearn.cluster import KMeans\n",
    "from sklearn.preprocessing import StandardScaler\n",
    "from sklearn.metrics import r2_score\n",
    "\n",
    "import matplotlib.pyplot as plt\n",
    "import seaborn as sns"
   ]
  },
  {
   "cell_type": "code",
   "execution_count": 2,
   "id": "13729855",
   "metadata": {},
   "outputs": [
    {
     "data": {
      "text/html": [
       "<div>\n",
       "<style scoped>\n",
       "    .dataframe tbody tr th:only-of-type {\n",
       "        vertical-align: middle;\n",
       "    }\n",
       "\n",
       "    .dataframe tbody tr th {\n",
       "        vertical-align: top;\n",
       "    }\n",
       "\n",
       "    .dataframe thead th {\n",
       "        text-align: right;\n",
       "    }\n",
       "</style>\n",
       "<table border=\"1\" class=\"dataframe\">\n",
       "  <thead>\n",
       "    <tr style=\"text-align: right;\">\n",
       "      <th></th>\n",
       "      <th>Date</th>\n",
       "      <th>z1_Light(kW)</th>\n",
       "      <th>z1_Plug(kW)</th>\n",
       "      <th>z2_AC1(kW)</th>\n",
       "      <th>z2_AC2(kW)</th>\n",
       "      <th>z2_AC3(kW)</th>\n",
       "      <th>z2_AC4(kW)</th>\n",
       "      <th>z2_Light(kW)</th>\n",
       "      <th>z2_Plug(kW)</th>\n",
       "      <th>z3_Light(kW)</th>\n",
       "      <th>z3_Plug(kW)</th>\n",
       "      <th>z4_Light(kW)</th>\n",
       "    </tr>\n",
       "  </thead>\n",
       "  <tbody>\n",
       "    <tr>\n",
       "      <th>0</th>\n",
       "      <td>2018-07-01 00:00:00</td>\n",
       "      <td>12.94</td>\n",
       "      <td>18.56</td>\n",
       "      <td>45.24</td>\n",
       "      <td>0.01</td>\n",
       "      <td>0.01</td>\n",
       "      <td>0.00</td>\n",
       "      <td>13.76</td>\n",
       "      <td>17.64</td>\n",
       "      <td>10.92</td>\n",
       "      <td>0.89</td>\n",
       "      <td>35.76</td>\n",
       "    </tr>\n",
       "    <tr>\n",
       "      <th>1</th>\n",
       "      <td>2018-07-01 00:01:00</td>\n",
       "      <td>12.97</td>\n",
       "      <td>18.55</td>\n",
       "      <td>45.28</td>\n",
       "      <td>0.02</td>\n",
       "      <td>0.01</td>\n",
       "      <td>0.01</td>\n",
       "      <td>13.76</td>\n",
       "      <td>17.21</td>\n",
       "      <td>10.95</td>\n",
       "      <td>0.87</td>\n",
       "      <td>35.81</td>\n",
       "    </tr>\n",
       "    <tr>\n",
       "      <th>2</th>\n",
       "      <td>2018-07-01 00:02:00</td>\n",
       "      <td>12.97</td>\n",
       "      <td>18.55</td>\n",
       "      <td>45.24</td>\n",
       "      <td>0.01</td>\n",
       "      <td>0.01</td>\n",
       "      <td>0.01</td>\n",
       "      <td>13.79</td>\n",
       "      <td>17.18</td>\n",
       "      <td>10.94</td>\n",
       "      <td>0.86</td>\n",
       "      <td>35.78</td>\n",
       "    </tr>\n",
       "    <tr>\n",
       "      <th>3</th>\n",
       "      <td>2018-07-01 00:03:00</td>\n",
       "      <td>12.98</td>\n",
       "      <td>18.58</td>\n",
       "      <td>45.26</td>\n",
       "      <td>0.02</td>\n",
       "      <td>0.01</td>\n",
       "      <td>0.00</td>\n",
       "      <td>13.81</td>\n",
       "      <td>16.64</td>\n",
       "      <td>10.94</td>\n",
       "      <td>0.85</td>\n",
       "      <td>35.83</td>\n",
       "    </tr>\n",
       "    <tr>\n",
       "      <th>4</th>\n",
       "      <td>2018-07-01 00:04:00</td>\n",
       "      <td>13.01</td>\n",
       "      <td>18.60</td>\n",
       "      <td>45.22</td>\n",
       "      <td>0.02</td>\n",
       "      <td>0.01</td>\n",
       "      <td>0.01</td>\n",
       "      <td>13.83</td>\n",
       "      <td>15.69</td>\n",
       "      <td>10.97</td>\n",
       "      <td>0.85</td>\n",
       "      <td>35.86</td>\n",
       "    </tr>\n",
       "    <tr>\n",
       "      <th>...</th>\n",
       "      <td>...</td>\n",
       "      <td>...</td>\n",
       "      <td>...</td>\n",
       "      <td>...</td>\n",
       "      <td>...</td>\n",
       "      <td>...</td>\n",
       "      <td>...</td>\n",
       "      <td>...</td>\n",
       "      <td>...</td>\n",
       "      <td>...</td>\n",
       "      <td>...</td>\n",
       "      <td>...</td>\n",
       "    </tr>\n",
       "    <tr>\n",
       "      <th>790555</th>\n",
       "      <td>2019-12-31 23:55:00</td>\n",
       "      <td>0.02</td>\n",
       "      <td>0.01</td>\n",
       "      <td>2.22</td>\n",
       "      <td>0.03</td>\n",
       "      <td>0.00</td>\n",
       "      <td>0.01</td>\n",
       "      <td>8.85</td>\n",
       "      <td>27.00</td>\n",
       "      <td>10.98</td>\n",
       "      <td>1.25</td>\n",
       "      <td>18.28</td>\n",
       "    </tr>\n",
       "    <tr>\n",
       "      <th>790556</th>\n",
       "      <td>2019-12-31 23:56:00</td>\n",
       "      <td>0.02</td>\n",
       "      <td>0.02</td>\n",
       "      <td>13.14</td>\n",
       "      <td>0.02</td>\n",
       "      <td>0.01</td>\n",
       "      <td>0.00</td>\n",
       "      <td>8.86</td>\n",
       "      <td>27.15</td>\n",
       "      <td>10.98</td>\n",
       "      <td>1.25</td>\n",
       "      <td>18.27</td>\n",
       "    </tr>\n",
       "    <tr>\n",
       "      <th>790557</th>\n",
       "      <td>2019-12-31 23:57:00</td>\n",
       "      <td>0.01</td>\n",
       "      <td>0.01</td>\n",
       "      <td>51.20</td>\n",
       "      <td>0.03</td>\n",
       "      <td>0.01</td>\n",
       "      <td>0.01</td>\n",
       "      <td>8.90</td>\n",
       "      <td>20.62</td>\n",
       "      <td>11.03</td>\n",
       "      <td>1.24</td>\n",
       "      <td>18.30</td>\n",
       "    </tr>\n",
       "    <tr>\n",
       "      <th>790558</th>\n",
       "      <td>2019-12-31 23:58:00</td>\n",
       "      <td>0.01</td>\n",
       "      <td>0.01</td>\n",
       "      <td>40.38</td>\n",
       "      <td>0.03</td>\n",
       "      <td>0.00</td>\n",
       "      <td>0.00</td>\n",
       "      <td>8.87</td>\n",
       "      <td>17.81</td>\n",
       "      <td>11.03</td>\n",
       "      <td>1.25</td>\n",
       "      <td>18.28</td>\n",
       "    </tr>\n",
       "    <tr>\n",
       "      <th>790559</th>\n",
       "      <td>2019-12-31 23:59:00</td>\n",
       "      <td>0.01</td>\n",
       "      <td>0.00</td>\n",
       "      <td>2.23</td>\n",
       "      <td>0.03</td>\n",
       "      <td>0.01</td>\n",
       "      <td>0.00</td>\n",
       "      <td>8.88</td>\n",
       "      <td>17.44</td>\n",
       "      <td>11.00</td>\n",
       "      <td>1.26</td>\n",
       "      <td>18.30</td>\n",
       "    </tr>\n",
       "  </tbody>\n",
       "</table>\n",
       "<p>790560 rows × 12 columns</p>\n",
       "</div>"
      ],
      "text/plain": [
       "                       Date  z1_Light(kW)  z1_Plug(kW)  z2_AC1(kW)  \\\n",
       "0       2018-07-01 00:00:00         12.94        18.56       45.24   \n",
       "1       2018-07-01 00:01:00         12.97        18.55       45.28   \n",
       "2       2018-07-01 00:02:00         12.97        18.55       45.24   \n",
       "3       2018-07-01 00:03:00         12.98        18.58       45.26   \n",
       "4       2018-07-01 00:04:00         13.01        18.60       45.22   \n",
       "...                     ...           ...          ...         ...   \n",
       "790555  2019-12-31 23:55:00          0.02         0.01        2.22   \n",
       "790556  2019-12-31 23:56:00          0.02         0.02       13.14   \n",
       "790557  2019-12-31 23:57:00          0.01         0.01       51.20   \n",
       "790558  2019-12-31 23:58:00          0.01         0.01       40.38   \n",
       "790559  2019-12-31 23:59:00          0.01         0.00        2.23   \n",
       "\n",
       "        z2_AC2(kW)  z2_AC3(kW)  z2_AC4(kW)  z2_Light(kW)  z2_Plug(kW)  \\\n",
       "0             0.01        0.01        0.00         13.76        17.64   \n",
       "1             0.02        0.01        0.01         13.76        17.21   \n",
       "2             0.01        0.01        0.01         13.79        17.18   \n",
       "3             0.02        0.01        0.00         13.81        16.64   \n",
       "4             0.02        0.01        0.01         13.83        15.69   \n",
       "...            ...         ...         ...           ...          ...   \n",
       "790555        0.03        0.00        0.01          8.85        27.00   \n",
       "790556        0.02        0.01        0.00          8.86        27.15   \n",
       "790557        0.03        0.01        0.01          8.90        20.62   \n",
       "790558        0.03        0.00        0.00          8.87        17.81   \n",
       "790559        0.03        0.01        0.00          8.88        17.44   \n",
       "\n",
       "        z3_Light(kW)  z3_Plug(kW)  z4_Light(kW)  \n",
       "0              10.92         0.89         35.76  \n",
       "1              10.95         0.87         35.81  \n",
       "2              10.94         0.86         35.78  \n",
       "3              10.94         0.85         35.83  \n",
       "4              10.97         0.85         35.86  \n",
       "...              ...          ...           ...  \n",
       "790555         10.98         1.25         18.28  \n",
       "790556         10.98         1.25         18.27  \n",
       "790557         11.03         1.24         18.30  \n",
       "790558         11.03         1.25         18.28  \n",
       "790559         11.00         1.26         18.30  \n",
       "\n",
       "[790560 rows x 12 columns]"
      ]
     },
     "execution_count": 2,
     "metadata": {},
     "output_type": "execute_result"
    }
   ],
   "source": [
    "df=pd.read_csv('Floor2.csv')#,parse_dates=['Date'],index_col=0)\n",
    "df"
   ]
  },
  {
   "cell_type": "code",
   "execution_count": 3,
   "id": "ae53af98",
   "metadata": {},
   "outputs": [
    {
     "data": {
      "text/html": [
       "<div>\n",
       "<style scoped>\n",
       "    .dataframe tbody tr th:only-of-type {\n",
       "        vertical-align: middle;\n",
       "    }\n",
       "\n",
       "    .dataframe tbody tr th {\n",
       "        vertical-align: top;\n",
       "    }\n",
       "\n",
       "    .dataframe thead th {\n",
       "        text-align: right;\n",
       "    }\n",
       "</style>\n",
       "<table border=\"1\" class=\"dataframe\">\n",
       "  <thead>\n",
       "    <tr style=\"text-align: right;\">\n",
       "      <th></th>\n",
       "      <th>Date</th>\n",
       "      <th>z2_AC1(kW)</th>\n",
       "    </tr>\n",
       "  </thead>\n",
       "  <tbody>\n",
       "    <tr>\n",
       "      <th>0</th>\n",
       "      <td>2018-07-01 00:00:00</td>\n",
       "      <td>45.24</td>\n",
       "    </tr>\n",
       "    <tr>\n",
       "      <th>1</th>\n",
       "      <td>2018-07-01 00:01:00</td>\n",
       "      <td>45.28</td>\n",
       "    </tr>\n",
       "    <tr>\n",
       "      <th>2</th>\n",
       "      <td>2018-07-01 00:02:00</td>\n",
       "      <td>45.24</td>\n",
       "    </tr>\n",
       "    <tr>\n",
       "      <th>3</th>\n",
       "      <td>2018-07-01 00:03:00</td>\n",
       "      <td>45.26</td>\n",
       "    </tr>\n",
       "    <tr>\n",
       "      <th>4</th>\n",
       "      <td>2018-07-01 00:04:00</td>\n",
       "      <td>45.22</td>\n",
       "    </tr>\n",
       "    <tr>\n",
       "      <th>...</th>\n",
       "      <td>...</td>\n",
       "      <td>...</td>\n",
       "    </tr>\n",
       "    <tr>\n",
       "      <th>790555</th>\n",
       "      <td>2019-12-31 23:55:00</td>\n",
       "      <td>2.22</td>\n",
       "    </tr>\n",
       "    <tr>\n",
       "      <th>790556</th>\n",
       "      <td>2019-12-31 23:56:00</td>\n",
       "      <td>13.14</td>\n",
       "    </tr>\n",
       "    <tr>\n",
       "      <th>790557</th>\n",
       "      <td>2019-12-31 23:57:00</td>\n",
       "      <td>51.20</td>\n",
       "    </tr>\n",
       "    <tr>\n",
       "      <th>790558</th>\n",
       "      <td>2019-12-31 23:58:00</td>\n",
       "      <td>40.38</td>\n",
       "    </tr>\n",
       "    <tr>\n",
       "      <th>790559</th>\n",
       "      <td>2019-12-31 23:59:00</td>\n",
       "      <td>2.23</td>\n",
       "    </tr>\n",
       "  </tbody>\n",
       "</table>\n",
       "<p>790560 rows × 2 columns</p>\n",
       "</div>"
      ],
      "text/plain": [
       "                       Date  z2_AC1(kW)\n",
       "0       2018-07-01 00:00:00       45.24\n",
       "1       2018-07-01 00:01:00       45.28\n",
       "2       2018-07-01 00:02:00       45.24\n",
       "3       2018-07-01 00:03:00       45.26\n",
       "4       2018-07-01 00:04:00       45.22\n",
       "...                     ...         ...\n",
       "790555  2019-12-31 23:55:00        2.22\n",
       "790556  2019-12-31 23:56:00       13.14\n",
       "790557  2019-12-31 23:57:00       51.20\n",
       "790558  2019-12-31 23:58:00       40.38\n",
       "790559  2019-12-31 23:59:00        2.23\n",
       "\n",
       "[790560 rows x 2 columns]"
      ]
     },
     "execution_count": 3,
     "metadata": {},
     "output_type": "execute_result"
    }
   ],
   "source": [
    "x=df[['Date','z2_AC1(kW)']]\n",
    "x"
   ]
  },
  {
   "cell_type": "code",
   "execution_count": 68,
   "id": "fe047212",
   "metadata": {},
   "outputs": [],
   "source": [
    "df['Date'] = pd.to_datetime(df['Date']) # convert column to datetime object\n",
    "df.set_index('Date', inplace=True)"
   ]
  },
  {
   "cell_type": "code",
   "execution_count": 4,
   "id": "ed60a5b3",
   "metadata": {},
   "outputs": [
    {
     "data": {
      "text/html": [
       "<div>\n",
       "<style scoped>\n",
       "    .dataframe tbody tr th:only-of-type {\n",
       "        vertical-align: middle;\n",
       "    }\n",
       "\n",
       "    .dataframe tbody tr th {\n",
       "        vertical-align: top;\n",
       "    }\n",
       "\n",
       "    .dataframe thead th {\n",
       "        text-align: right;\n",
       "    }\n",
       "</style>\n",
       "<table border=\"1\" class=\"dataframe\">\n",
       "  <thead>\n",
       "    <tr style=\"text-align: right;\">\n",
       "      <th></th>\n",
       "      <th>Date</th>\n",
       "      <th>z2_AC1(kW)</th>\n",
       "    </tr>\n",
       "  </thead>\n",
       "  <tbody>\n",
       "    <tr>\n",
       "      <th>0</th>\n",
       "      <td>2018-07-01 00:00:00</td>\n",
       "      <td>45.24</td>\n",
       "    </tr>\n",
       "    <tr>\n",
       "      <th>1</th>\n",
       "      <td>2018-07-01 00:01:00</td>\n",
       "      <td>45.28</td>\n",
       "    </tr>\n",
       "    <tr>\n",
       "      <th>2</th>\n",
       "      <td>2018-07-01 00:02:00</td>\n",
       "      <td>45.24</td>\n",
       "    </tr>\n",
       "    <tr>\n",
       "      <th>3</th>\n",
       "      <td>2018-07-01 00:03:00</td>\n",
       "      <td>45.26</td>\n",
       "    </tr>\n",
       "    <tr>\n",
       "      <th>4</th>\n",
       "      <td>2018-07-01 00:04:00</td>\n",
       "      <td>45.22</td>\n",
       "    </tr>\n",
       "  </tbody>\n",
       "</table>\n",
       "</div>"
      ],
      "text/plain": [
       "                  Date  z2_AC1(kW)\n",
       "0  2018-07-01 00:00:00       45.24\n",
       "1  2018-07-01 00:01:00       45.28\n",
       "2  2018-07-01 00:02:00       45.24\n",
       "3  2018-07-01 00:03:00       45.26\n",
       "4  2018-07-01 00:04:00       45.22"
      ]
     },
     "execution_count": 4,
     "metadata": {},
     "output_type": "execute_result"
    }
   ],
   "source": [
    "x= x.dropna(axis=0)\n",
    "x.head()"
   ]
  },
  {
   "cell_type": "code",
   "execution_count": 5,
   "id": "6a56b564",
   "metadata": {},
   "outputs": [
    {
     "data": {
      "text/plain": [
       "Date          0\n",
       "z2_AC1(kW)    0\n",
       "dtype: int64"
      ]
     },
     "execution_count": 5,
     "metadata": {},
     "output_type": "execute_result"
    }
   ],
   "source": [
    "x.isna().sum()"
   ]
  },
  {
   "cell_type": "code",
   "execution_count": 6,
   "id": "07f9e94d",
   "metadata": {},
   "outputs": [
    {
     "name": "stderr",
     "output_type": "stream",
     "text": [
      "C:\\Users\\Sundar\\AppData\\Local\\Temp\\ipykernel_21424\\3204155718.py:1: SettingWithCopyWarning: \n",
      "A value is trying to be set on a copy of a slice from a DataFrame.\n",
      "Try using .loc[row_indexer,col_indexer] = value instead\n",
      "\n",
      "See the caveats in the documentation: https://pandas.pydata.org/pandas-docs/stable/user_guide/indexing.html#returning-a-view-versus-a-copy\n",
      "  x['Date']=pd.to_datetime(x['Date'])\n"
     ]
    }
   ],
   "source": [
    "x['Date']=pd.to_datetime(x['Date'])"
   ]
  },
  {
   "cell_type": "code",
   "execution_count": 7,
   "id": "22c09273",
   "metadata": {},
   "outputs": [],
   "source": [
    "x.set_index('Date',inplace=True)"
   ]
  },
  {
   "cell_type": "code",
   "execution_count": 8,
   "id": "20c91c89",
   "metadata": {},
   "outputs": [
    {
     "data": {
      "text/plain": [
       "<AxesSubplot:xlabel='Date'>"
      ]
     },
     "execution_count": 8,
     "metadata": {},
     "output_type": "execute_result"
    },
    {
     "data": {
      "image/png": "[encoded data removed]",
      "text/plain": [
       "<Figure size 3600x1440 with 1 Axes>"
      ]
     },
     "metadata": {
      "needs_background": "light"
     },
     "output_type": "display_data"
    }
   ],
   "source": [
    "x.plot(figsize=(50,20))"
   ]
  },
  {
   "cell_type": "code",
   "execution_count": 9,
   "id": "2530e43d",
   "metadata": {},
   "outputs": [
    {
     "data": {
      "text/html": [
       "<div>\n",
       "<style scoped>\n",
       "    .dataframe tbody tr th:only-of-type {\n",
       "        vertical-align: middle;\n",
       "    }\n",
       "\n",
       "    .dataframe tbody tr th {\n",
       "        vertical-align: top;\n",
       "    }\n",
       "\n",
       "    .dataframe thead th {\n",
       "        text-align: right;\n",
       "    }\n",
       "</style>\n",
       "<table border=\"1\" class=\"dataframe\">\n",
       "  <thead>\n",
       "    <tr style=\"text-align: right;\">\n",
       "      <th></th>\n",
       "      <th>z2_AC1(kW)</th>\n",
       "    </tr>\n",
       "    <tr>\n",
       "      <th>Date</th>\n",
       "      <th></th>\n",
       "    </tr>\n",
       "  </thead>\n",
       "  <tbody>\n",
       "    <tr>\n",
       "      <th>2018-07-01 00:00:00</th>\n",
       "      <td>45.24</td>\n",
       "    </tr>\n",
       "    <tr>\n",
       "      <th>2018-07-01 00:01:00</th>\n",
       "      <td>45.28</td>\n",
       "    </tr>\n",
       "    <tr>\n",
       "      <th>2018-07-01 00:02:00</th>\n",
       "      <td>45.24</td>\n",
       "    </tr>\n",
       "    <tr>\n",
       "      <th>2018-07-01 00:03:00</th>\n",
       "      <td>45.26</td>\n",
       "    </tr>\n",
       "    <tr>\n",
       "      <th>2018-07-01 00:04:00</th>\n",
       "      <td>45.22</td>\n",
       "    </tr>\n",
       "    <tr>\n",
       "      <th>...</th>\n",
       "      <td>...</td>\n",
       "    </tr>\n",
       "    <tr>\n",
       "      <th>2018-07-01 23:55:00</th>\n",
       "      <td>46.58</td>\n",
       "    </tr>\n",
       "    <tr>\n",
       "      <th>2018-07-01 23:56:00</th>\n",
       "      <td>46.70</td>\n",
       "    </tr>\n",
       "    <tr>\n",
       "      <th>2018-07-01 23:57:00</th>\n",
       "      <td>46.72</td>\n",
       "    </tr>\n",
       "    <tr>\n",
       "      <th>2018-07-01 23:58:00</th>\n",
       "      <td>46.70</td>\n",
       "    </tr>\n",
       "    <tr>\n",
       "      <th>2018-07-01 23:59:00</th>\n",
       "      <td>46.70</td>\n",
       "    </tr>\n",
       "  </tbody>\n",
       "</table>\n",
       "<p>1440 rows × 1 columns</p>\n",
       "</div>"
      ],
      "text/plain": [
       "                     z2_AC1(kW)\n",
       "Date                           \n",
       "2018-07-01 00:00:00       45.24\n",
       "2018-07-01 00:01:00       45.28\n",
       "2018-07-01 00:02:00       45.24\n",
       "2018-07-01 00:03:00       45.26\n",
       "2018-07-01 00:04:00       45.22\n",
       "...                         ...\n",
       "2018-07-01 23:55:00       46.58\n",
       "2018-07-01 23:56:00       46.70\n",
       "2018-07-01 23:57:00       46.72\n",
       "2018-07-01 23:58:00       46.70\n",
       "2018-07-01 23:59:00       46.70\n",
       "\n",
       "[1440 rows x 1 columns]"
      ]
     },
     "execution_count": 9,
     "metadata": {},
     "output_type": "execute_result"
    }
   ],
   "source": [
    "y=x['2018-07-01':'2018-07-01']\n",
    "y"
   ]
  },
  {
   "cell_type": "code",
   "execution_count": 10,
   "id": "2dbe7807",
   "metadata": {},
   "outputs": [
    {
     "data": {
      "text/plain": [
       "<AxesSubplot:xlabel='Date'>"
      ]
     },
     "execution_count": 10,
     "metadata": {},
     "output_type": "execute_result"
    },
    {
     "data": {
      "image/png": "[encoded data removed]",
      "text/plain": [
       "<Figure size 720x360 with 1 Axes>"
      ]
     },
     "metadata": {
      "needs_background": "light"
     },
     "output_type": "display_data"
    }
   ],
   "source": [
    "y.plot(figsize=(10,5))"
   ]
  },
  {
   "cell_type": "code",
   "execution_count": 11,
   "id": "d65471cc",
   "metadata": {},
   "outputs": [],
   "source": [
    "from statsmodels.tsa.stattools import adfuller"
   ]
  },
  {
   "cell_type": "code",
   "execution_count": 12,
   "id": "879dd145",
   "metadata": {},
   "outputs": [],
   "source": [
    "res=adfuller(y['z2_AC1(kW)'])"
   ]
  },
  {
   "cell_type": "code",
   "execution_count": 13,
   "id": "f25e48f1",
   "metadata": {},
   "outputs": [],
   "source": [
    "def adfuller_test(p):\n",
    "    result=adfuller(p)\n",
    "    labels = ['ADF Test Statistic','p-value','#Lags Used','Number of Observations Used']\n",
    "    for value,label in zip(result,labels):\n",
    "        print(label+' : '+str(value) )\n",
    "    if result[1] <= 0.05:\n",
    "        print(\"strong evidence against the null hypothesis(Ho), reject the null hypothesis. Data has no unit root and is stationary\")\n",
    "    else:\n",
    "        print(\"weak evidence against null hypothesis, time series has a unit root, indicating it is non-stationary \")\n",
    "    "
   ]
  },
  {
   "cell_type": "code",
   "execution_count": 14,
   "id": "e2d08bf2",
   "metadata": {
    "scrolled": true
   },
   "outputs": [
    {
     "name": "stdout",
     "output_type": "stream",
     "text": [
      "ADF Test Statistic : -1.755315687369489\n",
      "p-value : 0.4028608236441414\n",
      "#Lags Used : 24\n",
      "Number of Observations Used : 1415\n",
      "weak evidence against null hypothesis, time series has a unit root, indicating it is non-stationary \n"
     ]
    }
   ],
   "source": [
    "adfuller_test(y['z2_AC1(kW)'])"
   ]
  },
  {
   "cell_type": "code",
   "execution_count": 15,
   "id": "fd32a96c",
   "metadata": {},
   "outputs": [
    {
     "name": "stderr",
     "output_type": "stream",
     "text": [
      "C:\\Users\\Sundar\\AppData\\Local\\Temp\\ipykernel_21424\\118085859.py:1: SettingWithCopyWarning: \n",
      "A value is trying to be set on a copy of a slice from a DataFrame.\n",
      "Try using .loc[row_indexer,col_indexer] = value instead\n",
      "\n",
      "See the caveats in the documentation: https://pandas.pydata.org/pandas-docs/stable/user_guide/indexing.html#returning-a-view-versus-a-copy\n",
      "  y['1st diff'] = y['z2_AC1(kW)'] - y['z2_AC1(kW)'].shift(1)\n"
     ]
    }
   ],
   "source": [
    "y['1st diff'] = y['z2_AC1(kW)'] - y['z2_AC1(kW)'].shift(1)"
   ]
  },
  {
   "cell_type": "code",
   "execution_count": 16,
   "id": "ff5ec7e2",
   "metadata": {},
   "outputs": [
    {
     "data": {
      "text/html": [
       "<div>\n",
       "<style scoped>\n",
       "    .dataframe tbody tr th:only-of-type {\n",
       "        vertical-align: middle;\n",
       "    }\n",
       "\n",
       "    .dataframe tbody tr th {\n",
       "        vertical-align: top;\n",
       "    }\n",
       "\n",
       "    .dataframe thead th {\n",
       "        text-align: right;\n",
       "    }\n",
       "</style>\n",
       "<table border=\"1\" class=\"dataframe\">\n",
       "  <thead>\n",
       "    <tr style=\"text-align: right;\">\n",
       "      <th></th>\n",
       "      <th>z2_AC1(kW)</th>\n",
       "      <th>1st diff</th>\n",
       "    </tr>\n",
       "    <tr>\n",
       "      <th>Date</th>\n",
       "      <th></th>\n",
       "      <th></th>\n",
       "    </tr>\n",
       "  </thead>\n",
       "  <tbody>\n",
       "    <tr>\n",
       "      <th>2018-07-01 00:00:00</th>\n",
       "      <td>45.24</td>\n",
       "      <td>NaN</td>\n",
       "    </tr>\n",
       "    <tr>\n",
       "      <th>2018-07-01 00:01:00</th>\n",
       "      <td>45.28</td>\n",
       "      <td>0.04</td>\n",
       "    </tr>\n",
       "    <tr>\n",
       "      <th>2018-07-01 00:02:00</th>\n",
       "      <td>45.24</td>\n",
       "      <td>-0.04</td>\n",
       "    </tr>\n",
       "    <tr>\n",
       "      <th>2018-07-01 00:03:00</th>\n",
       "      <td>45.26</td>\n",
       "      <td>0.02</td>\n",
       "    </tr>\n",
       "    <tr>\n",
       "      <th>2018-07-01 00:04:00</th>\n",
       "      <td>45.22</td>\n",
       "      <td>-0.04</td>\n",
       "    </tr>\n",
       "  </tbody>\n",
       "</table>\n",
       "</div>"
      ],
      "text/plain": [
       "                     z2_AC1(kW)  1st diff\n",
       "Date                                     \n",
       "2018-07-01 00:00:00       45.24       NaN\n",
       "2018-07-01 00:01:00       45.28      0.04\n",
       "2018-07-01 00:02:00       45.24     -0.04\n",
       "2018-07-01 00:03:00       45.26      0.02\n",
       "2018-07-01 00:04:00       45.22     -0.04"
      ]
     },
     "execution_count": 16,
     "metadata": {},
     "output_type": "execute_result"
    }
   ],
   "source": [
    "y.head()"
   ]
  },
  {
   "cell_type": "code",
   "execution_count": 17,
   "id": "da571af5",
   "metadata": {},
   "outputs": [
    {
     "name": "stdout",
     "output_type": "stream",
     "text": [
      "ADF Test Statistic : -12.117805154018692\n",
      "p-value : 1.8549577767074575e-22\n",
      "#Lags Used : 23\n",
      "Number of Observations Used : 1415\n",
      "strong evidence against the null hypothesis(Ho), reject the null hypothesis. Data has no unit root and is stationary\n"
     ]
    }
   ],
   "source": [
    "adfuller_test(y['1st diff'].dropna())"
   ]
  },
  {
   "cell_type": "code",
   "execution_count": 18,
   "id": "99016f30",
   "metadata": {},
   "outputs": [
    {
     "data": {
      "text/plain": [
       "<AxesSubplot:xlabel='Date'>"
      ]
     },
     "execution_count": 18,
     "metadata": {},
     "output_type": "execute_result"
    },
    {
     "data": {
      "image/png": "[encoded data removed]",
      "text/plain": [
       "<Figure size 1440x720 with 1 Axes>"
      ]
     },
     "metadata": {
      "needs_background": "light"
     },
     "output_type": "display_data"
    }
   ],
   "source": [
    "y['1st diff'].plot(figsize=(20,10))"
   ]
  },
  {
   "cell_type": "code",
   "execution_count": 19,
   "id": "b62b0636",
   "metadata": {},
   "outputs": [
    {
     "data": {
      "image/png": "[encoded data removed]",
      "text/plain": [
       "<Figure size 432x288 with 1 Axes>"
      ]
     },
     "metadata": {
      "needs_background": "light"
     },
     "output_type": "display_data"
    }
   ],
   "source": [
    "from pandas.plotting import autocorrelation_plot\n",
    "autocorrelation_plot(y['z2_AC1(kW)'])\n",
    "plt.show()"
   ]
  },
  {
   "cell_type": "code",
   "execution_count": 20,
   "id": "2a2060cd",
   "metadata": {},
   "outputs": [
    {
     "name": "stderr",
     "output_type": "stream",
     "text": [
      "C:\\Users\\Sundar\\anaconda3\\lib\\site-packages\\statsmodels\\graphics\\tsaplots.py:348: FutureWarning: The default method 'yw' can produce PACF values outside of the [-1,1] interval. After 0.13, the default will change tounadjusted Yule-Walker ('ywm'). You can use this method now by setting method='ywm'.\n",
      "  warnings.warn(\n"
     ]
    },
    {
     "data": {
      "image/png": "[encoded data removed]",
      "text/plain": [
       "<Figure size 864x576 with 2 Axes>"
      ]
     },
     "metadata": {
      "needs_background": "light"
     },
     "output_type": "display_data"
    }
   ],
   "source": [
    "import statsmodels.api as sm\n",
    "fig = plt.figure(figsize=(12,8))\n",
    "ax1 = fig.add_subplot(211)\n",
    "fig = sm.graphics.tsa.plot_acf(y['1st diff'].iloc[13:],lags=40,ax=ax1)\n",
    "ax2 = fig.add_subplot(212)\n",
    "fig = sm.graphics.tsa.plot_pacf(y['1st diff'].iloc[13:],lags=40,ax=ax2)\n"
   ]
  },
  {
   "cell_type": "code",
   "execution_count": 22,
   "id": "aceff483",
   "metadata": {},
   "outputs": [],
   "source": [
    "from pmdarima import auto_arima\n",
    "import warnings\n",
    "warnings.filterwarnings('ignore')"
   ]
  },
  {
   "cell_type": "code",
   "execution_count": 23,
   "id": "434c03c9",
   "metadata": {},
   "outputs": [
    {
     "name": "stdout",
     "output_type": "stream",
     "text": [
      "Performing stepwise search to minimize aic\n",
      " ARIMA(2,1,2)(0,0,0)[0] intercept   : AIC=3958.643, Time=2.04 sec\n",
      " ARIMA(0,1,0)(0,0,0)[0] intercept   : AIC=5251.503, Time=0.12 sec\n",
      " ARIMA(1,1,0)(0,0,0)[0] intercept   : AIC=4540.900, Time=0.35 sec\n",
      " ARIMA(0,1,1)(0,0,0)[0] intercept   : AIC=4037.506, Time=1.50 sec\n",
      " ARIMA(0,1,0)(0,0,0)[0]             : AIC=5249.504, Time=0.14 sec\n",
      " ARIMA(1,1,2)(0,0,0)[0] intercept   : AIC=3956.729, Time=2.30 sec\n",
      " ARIMA(0,1,2)(0,0,0)[0] intercept   : AIC=3958.860, Time=2.10 sec\n",
      " ARIMA(1,1,1)(0,0,0)[0] intercept   : AIC=3954.735, Time=1.19 sec\n",
      " ARIMA(2,1,1)(0,0,0)[0] intercept   : AIC=3956.730, Time=1.67 sec\n",
      " ARIMA(2,1,0)(0,0,0)[0] intercept   : AIC=4333.969, Time=0.50 sec\n",
      " ARIMA(1,1,1)(0,0,0)[0]             : AIC=3953.087, Time=0.46 sec\n",
      " ARIMA(0,1,1)(0,0,0)[0]             : AIC=4036.046, Time=0.39 sec\n",
      " ARIMA(1,1,0)(0,0,0)[0]             : AIC=4538.903, Time=0.17 sec\n",
      " ARIMA(2,1,1)(0,0,0)[0]             : AIC=3955.080, Time=0.58 sec\n",
      " ARIMA(1,1,2)(0,0,0)[0]             : AIC=3955.078, Time=0.89 sec\n",
      " ARIMA(0,1,2)(0,0,0)[0]             : AIC=3957.160, Time=0.52 sec\n",
      " ARIMA(2,1,0)(0,0,0)[0]             : AIC=4331.975, Time=0.25 sec\n",
      " ARIMA(2,1,2)(0,0,0)[0]             : AIC=3956.972, Time=1.53 sec\n",
      "\n",
      "Best model:  ARIMA(1,1,1)(0,0,0)[0]          \n",
      "Total fit time: 16.709 seconds\n"
     ]
    },
    {
     "data": {
      "text/html": [
       "<table class=\"simpletable\">\n",
       "<caption>SARIMAX Results</caption>\n",
       "<tr>\n",
       "  <th>Dep. Variable:</th>           <td>y</td>        <th>  No. Observations:  </th>   <td>1440</td>   \n",
       "</tr>\n",
       "<tr>\n",
       "  <th>Model:</th>           <td>SARIMAX(1, 1, 1)</td> <th>  Log Likelihood     </th> <td>-1973.543</td>\n",
       "</tr>\n",
       "<tr>\n",
       "  <th>Date:</th>            <td>Tue, 18 Apr 2023</td> <th>  AIC                </th> <td>3953.087</td> \n",
       "</tr>\n",
       "<tr>\n",
       "  <th>Time:</th>                <td>06:57:23</td>     <th>  BIC                </th> <td>3968.902</td> \n",
       "</tr>\n",
       "<tr>\n",
       "  <th>Sample:</th>             <td>07-01-2018</td>    <th>  HQIC               </th> <td>3958.991</td> \n",
       "</tr>\n",
       "<tr>\n",
       "  <th></th>                   <td>- 07-01-2018</td>   <th>                     </th>     <td> </td>    \n",
       "</tr>\n",
       "<tr>\n",
       "  <th>Covariance Type:</th>        <td>opg</td>       <th>                     </th>     <td> </td>    \n",
       "</tr>\n",
       "</table>\n",
       "<table class=\"simpletable\">\n",
       "<tr>\n",
       "     <td></td>       <th>coef</th>     <th>std err</th>      <th>z</th>      <th>P>|z|</th>  <th>[0.025</th>    <th>0.975]</th>  \n",
       "</tr>\n",
       "<tr>\n",
       "  <th>ar.L1</th>  <td>   -0.2536</td> <td>    0.008</td> <td>  -33.569</td> <td> 0.000</td> <td>   -0.268</td> <td>   -0.239</td>\n",
       "</tr>\n",
       "<tr>\n",
       "  <th>ma.L1</th>  <td>   -0.9195</td> <td>    0.008</td> <td> -117.713</td> <td> 0.000</td> <td>   -0.935</td> <td>   -0.904</td>\n",
       "</tr>\n",
       "<tr>\n",
       "  <th>sigma2</th> <td>    0.9079</td> <td>    0.003</td> <td>  285.770</td> <td> 0.000</td> <td>    0.902</td> <td>    0.914</td>\n",
       "</tr>\n",
       "</table>\n",
       "<table class=\"simpletable\">\n",
       "<tr>\n",
       "  <th>Ljung-Box (L1) (Q):</th>     <td>0.00</td>  <th>  Jarque-Bera (JB):  </th> <td>4381770.68</td>\n",
       "</tr>\n",
       "<tr>\n",
       "  <th>Prob(Q):</th>                <td>0.95</td>  <th>  Prob(JB):          </th>    <td>0.00</td>   \n",
       "</tr>\n",
       "<tr>\n",
       "  <th>Heteroskedasticity (H):</th> <td>85.75</td> <th>  Skew:              </th>   <td>-10.68</td>  \n",
       "</tr>\n",
       "<tr>\n",
       "  <th>Prob(H) (two-sided):</th>    <td>0.00</td>  <th>  Kurtosis:          </th>   <td>272.49</td>  \n",
       "</tr>\n",
       "</table><br/><br/>Warnings:<br/>[1] Covariance matrix calculated using the outer product of gradients (complex-step)."
      ],
      "text/plain": [
       "<class 'statsmodels.iolib.summary.Summary'>\n",
       "\"\"\"\n",
       "                               SARIMAX Results                                \n",
       "==============================================================================\n",
       "Dep. Variable:                      y   No. Observations:                 1440\n",
       "Model:               SARIMAX(1, 1, 1)   Log Likelihood               -1973.543\n",
       "Date:                Tue, 18 Apr 2023   AIC                           3953.087\n",
       "Time:                        06:57:23   BIC                           3968.902\n",
       "Sample:                    07-01-2018   HQIC                          3958.991\n",
       "                         - 07-01-2018                                         \n",
       "Covariance Type:                  opg                                         \n",
       "==============================================================================\n",
       "                 coef    std err          z      P>|z|      [0.025      0.975]\n",
       "------------------------------------------------------------------------------\n",
       "ar.L1         -0.2536      0.008    -33.569      0.000      -0.268      -0.239\n",
       "ma.L1         -0.9195      0.008   -117.713      0.000      -0.935      -0.904\n",
       "sigma2         0.9079      0.003    285.770      0.000       0.902       0.914\n",
       "===================================================================================\n",
       "Ljung-Box (L1) (Q):                   0.00   Jarque-Bera (JB):           4381770.68\n",
       "Prob(Q):                              0.95   Prob(JB):                         0.00\n",
       "Heteroskedasticity (H):              85.75   Skew:                           -10.68\n",
       "Prob(H) (two-sided):                  0.00   Kurtosis:                       272.49\n",
       "===================================================================================\n",
       "\n",
       "Warnings:\n",
       "[1] Covariance matrix calculated using the outer product of gradients (complex-step).\n",
       "\"\"\""
      ]
     },
     "execution_count": 23,
     "metadata": {},
     "output_type": "execute_result"
    }
   ],
   "source": [
    "model=auto_arima(y['z2_AC1(kW)'],trace=True,suppress_warnings=True)\n",
    "model.summary()"
   ]
  },
  {
   "cell_type": "code",
   "execution_count": 24,
   "id": "d2cc7ecc",
   "metadata": {},
   "outputs": [],
   "source": [
    "from statsmodels.tsa.arima_model import ARIMA\n"
   ]
  },
  {
   "cell_type": "code",
   "execution_count": 26,
   "id": "9f2fa8f4",
   "metadata": {},
   "outputs": [
    {
     "name": "stdout",
     "output_type": "stream",
     "text": [
      "(1440, 2)\n"
     ]
    }
   ],
   "source": [
    "print(y.shape)"
   ]
  },
  {
   "cell_type": "code",
   "execution_count": 27,
   "id": "17687960",
   "metadata": {},
   "outputs": [
    {
     "name": "stdout",
     "output_type": "stream",
     "text": [
      "(1410, 2) (30, 2)\n"
     ]
    }
   ],
   "source": [
    "train=y.iloc[:-30]\n",
    "test=y.iloc[-30:]\n",
    "print(train.shape,test.shape)"
   ]
  },
  {
   "cell_type": "code",
   "execution_count": 30,
   "id": "9a40da99",
   "metadata": {},
   "outputs": [
    {
     "data": {
      "text/plain": [
       "<AxesSubplot:xlabel='Date'>"
      ]
     },
     "execution_count": 30,
     "metadata": {},
     "output_type": "execute_result"
    },
    {
     "data": {
      "image/png": "[encoded data removed]",
      "text/plain": [
       "<Figure size 432x288 with 1 Axes>"
      ]
     },
     "metadata": {
      "needs_background": "light"
     },
     "output_type": "display_data"
    }
   ],
   "source": [
    "start=len(train)\n",
    "end=len(train)+len(test)-1\n",
    "pred=model.predict(start=start,end=end,typ='levels').rename('ARIMA Predictions')\n",
    "pred.plot(legend=True)\n",
    "test['z2_AC1(kW)'].plot(legend=True)"
   ]
  },
  {
   "cell_type": "code",
   "execution_count": 35,
   "id": "b6e89940",
   "metadata": {},
   "outputs": [
    {
     "data": {
      "text/plain": [
       "46.63333333333333"
      ]
     },
     "execution_count": 35,
     "metadata": {},
     "output_type": "execute_result"
    }
   ],
   "source": [
    "test['z2_AC1(kW)'].mean()"
   ]
  },
  {
   "cell_type": "code",
   "execution_count": null,
   "id": "2399f361",
   "metadata": {},
   "outputs": [],
   "source": [
    "m1"
   ]
  },
  {
   "cell_type": "code",
   "execution_count": 121,
   "id": "4770b7d2",
   "metadata": {},
   "outputs": [],
   "source": [
    "from statsmodels.tsa.arima_model import ARIMA\n",
    "import warnings\n",
    "warnings.filterwarnings('ignore', 'statsmodels.tsa.arima_model.ARMA',\n",
    "                        FutureWarning)\n",
    "warnings.filterwarnings('ignore', 'statsmodels.tsa.arima_model.ARIMA',\n",
    "                        FutureWarning)\n",
    "\n",
    "#warnings.warn(ARIMA_DEPRECATION_WARN, FutureWarning)"
   ]
  },
  {
   "cell_type": "code",
   "execution_count": null,
   "id": "bedb874b",
   "metadata": {},
   "outputs": [],
   "source": []
  },
  {
   "cell_type": "code",
   "execution_count": 45,
   "id": "66e02b29",
   "metadata": {},
   "outputs": [
    {
     "data": {
      "text/plain": [
       "pandas._libs.tslibs.timestamps.Timestamp"
      ]
     },
     "execution_count": 45,
     "metadata": {},
     "output_type": "execute_result"
    }
   ],
   "source": [
    "## Cleaning up the data\n",
    "#df.columns=[\"Month\",\"Sales\"]\n",
    "#df.isnull().sum()\n",
    "type(df.index[0])"
   ]
  },
  {
   "cell_type": "code",
   "execution_count": null,
   "id": "f8b941f1",
   "metadata": {},
   "outputs": [],
   "source": []
  },
  {
   "cell_type": "code",
   "execution_count": 30,
   "id": "85243354",
   "metadata": {},
   "outputs": [
    {
     "data": {
      "text/plain": [
       "z1_Light(kW)    0\n",
       "z1_Plug(kW)     0\n",
       "z2_AC1(kW)      0\n",
       "z2_AC2(kW)      0\n",
       "z2_AC3(kW)      0\n",
       "z2_AC4(kW)      0\n",
       "z2_Light(kW)    0\n",
       "z2_Plug(kW)     0\n",
       "z3_Light(kW)    0\n",
       "z3_Plug(kW)     0\n",
       "z4_Light(kW)    0\n",
       "dtype: int64"
      ]
     },
     "execution_count": 30,
     "metadata": {},
     "output_type": "execute_result"
    }
   ],
   "source": [
    "## Drop last 2 rows\n",
    "df.isnull().sum()"
   ]
  },
  {
   "cell_type": "code",
   "execution_count": 34,
   "id": "eab4c6d2",
   "metadata": {
    "scrolled": true
   },
   "outputs": [
    {
     "data": {
      "text/plain": [
       "<Figure size 1440x360 with 0 Axes>"
      ]
     },
     "metadata": {},
     "output_type": "display_data"
    },
    {
     "data": {
      "image/png": "[encoded data removed]",
      "text/plain": [
       "<Figure size 432x288 with 1 Axes>"
      ]
     },
     "metadata": {
      "needs_background": "light"
     },
     "output_type": "display_data"
    }
   ],
   "source": [
    "plt.figure(figsize=(20,5))\n",
    "df.plot()\n",
    "plt.show()"
   ]
  },
  {
   "cell_type": "code",
   "execution_count": 117,
   "id": "de966cd7",
   "metadata": {},
   "outputs": [],
   "source": [
    "from statsmodels.tsa.stattools import adfuller\n",
    "test_result=adfuller(df['Sales'])"
   ]
  },
  {
   "cell_type": "code",
   "execution_count": 118,
   "id": "1f153e50",
   "metadata": {},
   "outputs": [],
   "source": [
    "#Ho: It is non stationary\n",
    "#H1: It is stationary\n",
    "\n",
    "def adfuller_test(sales):\n",
    "    result=adfuller(sales)\n",
    "    labels = ['ADF Test Statistic','p-value','#Lags Used','Number of Observations Used']\n",
    "    for value,label in zip(result,labels):\n",
    "        print(label+' : '+str(value) )\n",
    "    if result[1] <= 0.05:\n",
    "        print(\"strong evidence against the null hypothesis(Ho), reject the null hypothesis. Data has no unit root and is stationary\")\n",
    "    else:\n",
    "        print(\"weak evidence against null hypothesis, time series has a unit root, indicating it is non-stationary \")\n",
    "    "
   ]
  },
  {
   "cell_type": "code",
   "execution_count": 119,
   "id": "720b12c1",
   "metadata": {},
   "outputs": [
    {
     "name": "stdout",
     "output_type": "stream",
     "text": [
      "ADF Test Statistic : -1.8335930563276248\n",
      "p-value : 0.363915771660244\n",
      "#Lags Used : 11\n",
      "Number of Observations Used : 93\n",
      "weak evidence against null hypothesis, time series has a unit root, indicating it is non-stationary \n"
     ]
    }
   ],
   "source": [
    "adfuller_test(df['Sales'])"
   ]
  },
  {
   "cell_type": "code",
   "execution_count": 120,
   "id": "7db65e00",
   "metadata": {},
   "outputs": [],
   "source": [
    "df['Sales First Difference'] = df['Sales'] - df['Sales'].shift(1)\n"
   ]
  },
  {
   "cell_type": "code",
   "execution_count": 121,
   "id": "3135133d",
   "metadata": {},
   "outputs": [
    {
     "data": {
      "text/plain": [
       "0         NaN\n",
       "1      2815.0\n",
       "2      2672.0\n",
       "3      2755.0\n",
       "4      2721.0\n",
       "        ...  \n",
       "100    4788.0\n",
       "101    4618.0\n",
       "102    5312.0\n",
       "103    4298.0\n",
       "104    1413.0\n",
       "Name: Sales, Length: 105, dtype: float64"
      ]
     },
     "execution_count": 121,
     "metadata": {},
     "output_type": "execute_result"
    }
   ],
   "source": [
    "df['Sales'].shift(1)"
   ]
  },
  {
   "cell_type": "code",
   "execution_count": 122,
   "id": "1fc07112",
   "metadata": {},
   "outputs": [],
   "source": [
    "df['Seasonal First Difference']=df['Sales']-df['Sales'].shift(12)"
   ]
  },
  {
   "cell_type": "code",
   "execution_count": 123,
   "id": "73ffcbd5",
   "metadata": {},
   "outputs": [
    {
     "data": {
      "text/html": [
       "<div>\n",
       "<style scoped>\n",
       "    .dataframe tbody tr th:only-of-type {\n",
       "        vertical-align: middle;\n",
       "    }\n",
       "\n",
       "    .dataframe tbody tr th {\n",
       "        vertical-align: top;\n",
       "    }\n",
       "\n",
       "    .dataframe thead th {\n",
       "        text-align: right;\n",
       "    }\n",
       "</style>\n",
       "<table border=\"1\" class=\"dataframe\">\n",
       "  <thead>\n",
       "    <tr style=\"text-align: right;\">\n",
       "      <th></th>\n",
       "      <th>Month</th>\n",
       "      <th>Sales</th>\n",
       "      <th>Sales First Difference</th>\n",
       "      <th>Seasonal First Difference</th>\n",
       "    </tr>\n",
       "  </thead>\n",
       "  <tbody>\n",
       "    <tr>\n",
       "      <th>0</th>\n",
       "      <td>1964-01</td>\n",
       "      <td>2815.0</td>\n",
       "      <td>NaN</td>\n",
       "      <td>NaN</td>\n",
       "    </tr>\n",
       "    <tr>\n",
       "      <th>1</th>\n",
       "      <td>1964-02</td>\n",
       "      <td>2672.0</td>\n",
       "      <td>-143.0</td>\n",
       "      <td>NaN</td>\n",
       "    </tr>\n",
       "    <tr>\n",
       "      <th>2</th>\n",
       "      <td>1964-03</td>\n",
       "      <td>2755.0</td>\n",
       "      <td>83.0</td>\n",
       "      <td>NaN</td>\n",
       "    </tr>\n",
       "    <tr>\n",
       "      <th>3</th>\n",
       "      <td>1964-04</td>\n",
       "      <td>2721.0</td>\n",
       "      <td>-34.0</td>\n",
       "      <td>NaN</td>\n",
       "    </tr>\n",
       "    <tr>\n",
       "      <th>4</th>\n",
       "      <td>1964-05</td>\n",
       "      <td>2946.0</td>\n",
       "      <td>225.0</td>\n",
       "      <td>NaN</td>\n",
       "    </tr>\n",
       "    <tr>\n",
       "      <th>5</th>\n",
       "      <td>1964-06</td>\n",
       "      <td>3036.0</td>\n",
       "      <td>90.0</td>\n",
       "      <td>NaN</td>\n",
       "    </tr>\n",
       "    <tr>\n",
       "      <th>6</th>\n",
       "      <td>1964-07</td>\n",
       "      <td>2282.0</td>\n",
       "      <td>-754.0</td>\n",
       "      <td>NaN</td>\n",
       "    </tr>\n",
       "    <tr>\n",
       "      <th>7</th>\n",
       "      <td>1964-08</td>\n",
       "      <td>2212.0</td>\n",
       "      <td>-70.0</td>\n",
       "      <td>NaN</td>\n",
       "    </tr>\n",
       "    <tr>\n",
       "      <th>8</th>\n",
       "      <td>1964-09</td>\n",
       "      <td>2922.0</td>\n",
       "      <td>710.0</td>\n",
       "      <td>NaN</td>\n",
       "    </tr>\n",
       "    <tr>\n",
       "      <th>9</th>\n",
       "      <td>1964-10</td>\n",
       "      <td>4301.0</td>\n",
       "      <td>1379.0</td>\n",
       "      <td>NaN</td>\n",
       "    </tr>\n",
       "    <tr>\n",
       "      <th>10</th>\n",
       "      <td>1964-11</td>\n",
       "      <td>5764.0</td>\n",
       "      <td>1463.0</td>\n",
       "      <td>NaN</td>\n",
       "    </tr>\n",
       "    <tr>\n",
       "      <th>11</th>\n",
       "      <td>1964-12</td>\n",
       "      <td>7312.0</td>\n",
       "      <td>1548.0</td>\n",
       "      <td>NaN</td>\n",
       "    </tr>\n",
       "    <tr>\n",
       "      <th>12</th>\n",
       "      <td>1965-01</td>\n",
       "      <td>2541.0</td>\n",
       "      <td>-4771.0</td>\n",
       "      <td>-274.0</td>\n",
       "    </tr>\n",
       "    <tr>\n",
       "      <th>13</th>\n",
       "      <td>1965-02</td>\n",
       "      <td>2475.0</td>\n",
       "      <td>-66.0</td>\n",
       "      <td>-197.0</td>\n",
       "    </tr>\n",
       "  </tbody>\n",
       "</table>\n",
       "</div>"
      ],
      "text/plain": [
       "      Month   Sales  Sales First Difference  Seasonal First Difference\n",
       "0   1964-01  2815.0                     NaN                        NaN\n",
       "1   1964-02  2672.0                  -143.0                        NaN\n",
       "2   1964-03  2755.0                    83.0                        NaN\n",
       "3   1964-04  2721.0                   -34.0                        NaN\n",
       "4   1964-05  2946.0                   225.0                        NaN\n",
       "5   1964-06  3036.0                    90.0                        NaN\n",
       "6   1964-07  2282.0                  -754.0                        NaN\n",
       "7   1964-08  2212.0                   -70.0                        NaN\n",
       "8   1964-09  2922.0                   710.0                        NaN\n",
       "9   1964-10  4301.0                  1379.0                        NaN\n",
       "10  1964-11  5764.0                  1463.0                        NaN\n",
       "11  1964-12  7312.0                  1548.0                        NaN\n",
       "12  1965-01  2541.0                 -4771.0                     -274.0\n",
       "13  1965-02  2475.0                   -66.0                     -197.0"
      ]
     },
     "execution_count": 123,
     "metadata": {},
     "output_type": "execute_result"
    }
   ],
   "source": [
    "df.head(14)"
   ]
  },
  {
   "cell_type": "code",
   "execution_count": 124,
   "id": "3b0dce6f",
   "metadata": {},
   "outputs": [
    {
     "name": "stdout",
     "output_type": "stream",
     "text": [
      "ADF Test Statistic : -7.626619157213163\n",
      "p-value : 2.060579696813685e-11\n",
      "#Lags Used : 0\n",
      "Number of Observations Used : 92\n",
      "strong evidence against the null hypothesis(Ho), reject the null hypothesis. Data has no unit root and is stationary\n"
     ]
    }
   ],
   "source": [
    "## Again test dickey fuller test\n",
    "adfuller_test(df['Seasonal First Difference'].dropna())"
   ]
  },
  {
   "cell_type": "code",
   "execution_count": 125,
   "id": "28d0e84a",
   "metadata": {},
   "outputs": [
    {
     "data": {
      "text/plain": [
       "<AxesSubplot:>"
      ]
     },
     "execution_count": 125,
     "metadata": {},
     "output_type": "execute_result"
    },
    {
     "data": {
      "image/png": "[encoded data removed]",
      "text/plain": [
       "<Figure size 432x288 with 1 Axes>"
      ]
     },
     "metadata": {
      "needs_background": "light"
     },
     "output_type": "display_data"
    }
   ],
   "source": [
    "df['Seasonal First Difference'].plot()"
   ]
  },
  {
   "cell_type": "code",
   "execution_count": 133,
   "id": "4a55aeba",
   "metadata": {},
   "outputs": [
    {
     "data": {
      "image/png": "[encoded data removed]",
      "text/plain": [
       "<Figure size 432x288 with 1 Axes>"
      ]
     },
     "metadata": {
      "needs_background": "light"
     },
     "output_type": "display_data"
    }
   ],
   "source": [
    "from pandas.plotting import autocorrelation_plot\n",
    "autocorrelation_plot(df['Sales'])\n",
    "plt.show()"
   ]
  },
  {
   "cell_type": "code",
   "execution_count": null,
   "id": "64a4ca5d",
   "metadata": {},
   "outputs": [],
   "source": []
  }
 ],
 "metadata": {
  "kernelspec": {
   "display_name": "Python 3 (ipykernel)",
   "language": "python",
   "name": "python3"
  },
  "language_info": {
   "codemirror_mode": {
    "name": "ipython",
    "version": 3
   },
   "file_extension": ".py",
   "mimetype": "text/x-python",
   "name": "python",
   "nbconvert_exporter": "python",
   "pygments_lexer": "ipython3",
   "version": "3.9.12"
  }
 },
 "nbformat": 4,
 "nbformat_minor": 5
}
