{
 "cells": [
  {
   "cell_type": "code",
   "execution_count": 1,
   "id": "32e70b39",
   "metadata": {},
   "outputs": [],
   "source": [
    "import pandas as pd\n",
    "import numpy as np\n",
    "from keras.models import Sequential\n",
    "from keras.layers import Dense, LSTM\n",
    "from sklearn.preprocessing import MinMaxScaler\n"
   ]
  },
  {
   "cell_type": "code",
   "execution_count": 2,
   "id": "68b964ec",
   "metadata": {},
   "outputs": [
    {
     "data": {
      "text/html": [
       "<div>\n",
       "<style scoped>\n",
       "    .dataframe tbody tr th:only-of-type {\n",
       "        vertical-align: middle;\n",
       "    }\n",
       "\n",
       "    .dataframe tbody tr th {\n",
       "        vertical-align: top;\n",
       "    }\n",
       "\n",
       "    .dataframe thead th {\n",
       "        text-align: right;\n",
       "    }\n",
       "</style>\n",
       "<table border=\"1\" class=\"dataframe\">\n",
       "  <thead>\n",
       "    <tr style=\"text-align: right;\">\n",
       "      <th></th>\n",
       "      <th>z1_Light(kW)</th>\n",
       "      <th>z1_Plug(kW)</th>\n",
       "      <th>z2_AC1(kW)</th>\n",
       "      <th>z2_AC2(kW)</th>\n",
       "      <th>z2_AC3(kW)</th>\n",
       "      <th>z2_AC4(kW)</th>\n",
       "      <th>z2_Light(kW)</th>\n",
       "      <th>z2_Plug(kW)</th>\n",
       "      <th>z3_Light(kW)</th>\n",
       "      <th>z3_Plug(kW)</th>\n",
       "      <th>z4_Light(kW)</th>\n",
       "    </tr>\n",
       "    <tr>\n",
       "      <th>Date</th>\n",
       "      <th></th>\n",
       "      <th></th>\n",
       "      <th></th>\n",
       "      <th></th>\n",
       "      <th></th>\n",
       "      <th></th>\n",
       "      <th></th>\n",
       "      <th></th>\n",
       "      <th></th>\n",
       "      <th></th>\n",
       "      <th></th>\n",
       "    </tr>\n",
       "  </thead>\n",
       "  <tbody>\n",
       "    <tr>\n",
       "      <th>2018-07-01 00:00:00</th>\n",
       "      <td>12.94</td>\n",
       "      <td>18.56</td>\n",
       "      <td>45.24</td>\n",
       "      <td>0.01</td>\n",
       "      <td>0.01</td>\n",
       "      <td>0.00</td>\n",
       "      <td>13.76</td>\n",
       "      <td>17.64</td>\n",
       "      <td>10.92</td>\n",
       "      <td>0.89</td>\n",
       "      <td>35.76</td>\n",
       "    </tr>\n",
       "    <tr>\n",
       "      <th>2018-07-01 00:01:00</th>\n",
       "      <td>12.97</td>\n",
       "      <td>18.55</td>\n",
       "      <td>45.28</td>\n",
       "      <td>0.02</td>\n",
       "      <td>0.01</td>\n",
       "      <td>0.01</td>\n",
       "      <td>13.76</td>\n",
       "      <td>17.21</td>\n",
       "      <td>10.95</td>\n",
       "      <td>0.87</td>\n",
       "      <td>35.81</td>\n",
       "    </tr>\n",
       "    <tr>\n",
       "      <th>2018-07-01 00:02:00</th>\n",
       "      <td>12.97</td>\n",
       "      <td>18.55</td>\n",
       "      <td>45.24</td>\n",
       "      <td>0.01</td>\n",
       "      <td>0.01</td>\n",
       "      <td>0.01</td>\n",
       "      <td>13.79</td>\n",
       "      <td>17.18</td>\n",
       "      <td>10.94</td>\n",
       "      <td>0.86</td>\n",
       "      <td>35.78</td>\n",
       "    </tr>\n",
       "    <tr>\n",
       "      <th>2018-07-01 00:03:00</th>\n",
       "      <td>12.98</td>\n",
       "      <td>18.58</td>\n",
       "      <td>45.26</td>\n",
       "      <td>0.02</td>\n",
       "      <td>0.01</td>\n",
       "      <td>0.00</td>\n",
       "      <td>13.81</td>\n",
       "      <td>16.64</td>\n",
       "      <td>10.94</td>\n",
       "      <td>0.85</td>\n",
       "      <td>35.83</td>\n",
       "    </tr>\n",
       "    <tr>\n",
       "      <th>2018-07-01 00:04:00</th>\n",
       "      <td>13.01</td>\n",
       "      <td>18.60</td>\n",
       "      <td>45.22</td>\n",
       "      <td>0.02</td>\n",
       "      <td>0.01</td>\n",
       "      <td>0.01</td>\n",
       "      <td>13.83</td>\n",
       "      <td>15.69</td>\n",
       "      <td>10.97</td>\n",
       "      <td>0.85</td>\n",
       "      <td>35.86</td>\n",
       "    </tr>\n",
       "    <tr>\n",
       "      <th>...</th>\n",
       "      <td>...</td>\n",
       "      <td>...</td>\n",
       "      <td>...</td>\n",
       "      <td>...</td>\n",
       "      <td>...</td>\n",
       "      <td>...</td>\n",
       "      <td>...</td>\n",
       "      <td>...</td>\n",
       "      <td>...</td>\n",
       "      <td>...</td>\n",
       "      <td>...</td>\n",
       "    </tr>\n",
       "    <tr>\n",
       "      <th>2019-12-31 23:55:00</th>\n",
       "      <td>0.02</td>\n",
       "      <td>0.01</td>\n",
       "      <td>2.22</td>\n",
       "      <td>0.03</td>\n",
       "      <td>0.00</td>\n",
       "      <td>0.01</td>\n",
       "      <td>8.85</td>\n",
       "      <td>27.00</td>\n",
       "      <td>10.98</td>\n",
       "      <td>1.25</td>\n",
       "      <td>18.28</td>\n",
       "    </tr>\n",
       "    <tr>\n",
       "      <th>2019-12-31 23:56:00</th>\n",
       "      <td>0.02</td>\n",
       "      <td>0.02</td>\n",
       "      <td>13.14</td>\n",
       "      <td>0.02</td>\n",
       "      <td>0.01</td>\n",
       "      <td>0.00</td>\n",
       "      <td>8.86</td>\n",
       "      <td>27.15</td>\n",
       "      <td>10.98</td>\n",
       "      <td>1.25</td>\n",
       "      <td>18.27</td>\n",
       "    </tr>\n",
       "    <tr>\n",
       "      <th>2019-12-31 23:57:00</th>\n",
       "      <td>0.01</td>\n",
       "      <td>0.01</td>\n",
       "      <td>51.20</td>\n",
       "      <td>0.03</td>\n",
       "      <td>0.01</td>\n",
       "      <td>0.01</td>\n",
       "      <td>8.90</td>\n",
       "      <td>20.62</td>\n",
       "      <td>11.03</td>\n",
       "      <td>1.24</td>\n",
       "      <td>18.30</td>\n",
       "    </tr>\n",
       "    <tr>\n",
       "      <th>2019-12-31 23:58:00</th>\n",
       "      <td>0.01</td>\n",
       "      <td>0.01</td>\n",
       "      <td>40.38</td>\n",
       "      <td>0.03</td>\n",
       "      <td>0.00</td>\n",
       "      <td>0.00</td>\n",
       "      <td>8.87</td>\n",
       "      <td>17.81</td>\n",
       "      <td>11.03</td>\n",
       "      <td>1.25</td>\n",
       "      <td>18.28</td>\n",
       "    </tr>\n",
       "    <tr>\n",
       "      <th>2019-12-31 23:59:00</th>\n",
       "      <td>0.01</td>\n",
       "      <td>0.00</td>\n",
       "      <td>2.23</td>\n",
       "      <td>0.03</td>\n",
       "      <td>0.01</td>\n",
       "      <td>0.00</td>\n",
       "      <td>8.88</td>\n",
       "      <td>17.44</td>\n",
       "      <td>11.00</td>\n",
       "      <td>1.26</td>\n",
       "      <td>18.30</td>\n",
       "    </tr>\n",
       "  </tbody>\n",
       "</table>\n",
       "<p>790560 rows × 11 columns</p>\n",
       "</div>"
      ],
      "text/plain": [
       "                     z1_Light(kW)  z1_Plug(kW)  z2_AC1(kW)  z2_AC2(kW)  \\\n",
       "Date                                                                     \n",
       "2018-07-01 00:00:00         12.94        18.56       45.24        0.01   \n",
       "2018-07-01 00:01:00         12.97        18.55       45.28        0.02   \n",
       "2018-07-01 00:02:00         12.97        18.55       45.24        0.01   \n",
       "2018-07-01 00:03:00         12.98        18.58       45.26        0.02   \n",
       "2018-07-01 00:04:00         13.01        18.60       45.22        0.02   \n",
       "...                           ...          ...         ...         ...   \n",
       "2019-12-31 23:55:00          0.02         0.01        2.22        0.03   \n",
       "2019-12-31 23:56:00          0.02         0.02       13.14        0.02   \n",
       "2019-12-31 23:57:00          0.01         0.01       51.20        0.03   \n",
       "2019-12-31 23:58:00          0.01         0.01       40.38        0.03   \n",
       "2019-12-31 23:59:00          0.01         0.00        2.23        0.03   \n",
       "\n",
       "                     z2_AC3(kW)  z2_AC4(kW)  z2_Light(kW)  z2_Plug(kW)  \\\n",
       "Date                                                                     \n",
       "2018-07-01 00:00:00        0.01        0.00         13.76        17.64   \n",
       "2018-07-01 00:01:00        0.01        0.01         13.76        17.21   \n",
       "2018-07-01 00:02:00        0.01        0.01         13.79        17.18   \n",
       "2018-07-01 00:03:00        0.01        0.00         13.81        16.64   \n",
       "2018-07-01 00:04:00        0.01        0.01         13.83        15.69   \n",
       "...                         ...         ...           ...          ...   \n",
       "2019-12-31 23:55:00        0.00        0.01          8.85        27.00   \n",
       "2019-12-31 23:56:00        0.01        0.00          8.86        27.15   \n",
       "2019-12-31 23:57:00        0.01        0.01          8.90        20.62   \n",
       "2019-12-31 23:58:00        0.00        0.00          8.87        17.81   \n",
       "2019-12-31 23:59:00        0.01        0.00          8.88        17.44   \n",
       "\n",
       "                     z3_Light(kW)  z3_Plug(kW)  z4_Light(kW)  \n",
       "Date                                                          \n",
       "2018-07-01 00:00:00         10.92         0.89         35.76  \n",
       "2018-07-01 00:01:00         10.95         0.87         35.81  \n",
       "2018-07-01 00:02:00         10.94         0.86         35.78  \n",
       "2018-07-01 00:03:00         10.94         0.85         35.83  \n",
       "2018-07-01 00:04:00         10.97         0.85         35.86  \n",
       "...                           ...          ...           ...  \n",
       "2019-12-31 23:55:00         10.98         1.25         18.28  \n",
       "2019-12-31 23:56:00         10.98         1.25         18.27  \n",
       "2019-12-31 23:57:00         11.03         1.24         18.30  \n",
       "2019-12-31 23:58:00         11.03         1.25         18.28  \n",
       "2019-12-31 23:59:00         11.00         1.26         18.30  \n",
       "\n",
       "[790560 rows x 11 columns]"
      ]
     },
     "execution_count": 2,
     "metadata": {},
     "output_type": "execute_result"
    }
   ],
   "source": [
    "df = pd.read_csv('Total_Building.csv',parse_dates=True,index_col='Date')\n",
    "df"
   ]
  },
  {
   "cell_type": "code",
   "execution_count": 3,
   "id": "446ab37b",
   "metadata": {},
   "outputs": [
    {
     "data": {
      "text/html": [
       "<div>\n",
       "<style scoped>\n",
       "    .dataframe tbody tr th:only-of-type {\n",
       "        vertical-align: middle;\n",
       "    }\n",
       "\n",
       "    .dataframe tbody tr th {\n",
       "        vertical-align: top;\n",
       "    }\n",
       "\n",
       "    .dataframe thead th {\n",
       "        text-align: right;\n",
       "    }\n",
       "</style>\n",
       "<table border=\"1\" class=\"dataframe\">\n",
       "  <thead>\n",
       "    <tr style=\"text-align: right;\">\n",
       "      <th></th>\n",
       "      <th>lights</th>\n",
       "      <th>acs</th>\n",
       "      <th>plug</th>\n",
       "    </tr>\n",
       "  </thead>\n",
       "  <tbody>\n",
       "  </tbody>\n",
       "</table>\n",
       "</div>"
      ],
      "text/plain": [
       "Empty DataFrame\n",
       "Columns: [lights, acs, plug]\n",
       "Index: []"
      ]
     },
     "execution_count": 3,
     "metadata": {},
     "output_type": "execute_result"
    }
   ],
   "source": [
    "final_df=pd.DataFrame(columns=['lights','acs','plug'])\n",
    "final_dffinal_df=pd.DataFrame(columns=['lights','acs','plug'])\n",
    "final_df"
   ]
  },
  {
   "cell_type": "code",
   "execution_count": 4,
   "id": "1a8fa669",
   "metadata": {},
   "outputs": [],
   "source": [
    "final_df['lights']=df['z1_Light(kW)']+df['z2_Light(kW)']+df['z3_Light(kW)']+df['z4_Light(kW)']\n",
    "final_df['acs']=df['z2_AC1(kW)']+df['z2_AC2(kW)']+df['z2_AC3(kW)']+df['z2_AC4(kW)']\n",
    "final_df['plug']=df['z1_Plug(kW)']+df['z2_Plug(kW)']+df['z3_Plug(kW)']"
   ]
  },
  {
   "cell_type": "code",
   "execution_count": 5,
   "id": "05df81af",
   "metadata": {},
   "outputs": [],
   "source": [
    "final_df['Power_consumption']=final_df['lights']+final_df['acs']+final_df['plug']\n"
   ]
  },
  {
   "cell_type": "code",
   "execution_count": 6,
   "id": "ec287571",
   "metadata": {},
   "outputs": [],
   "source": [
    "final_df=final_df.fillna(final_df.mean())"
   ]
  },
  {
   "cell_type": "code",
   "execution_count": 7,
   "id": "bea501a2",
   "metadata": {},
   "outputs": [
    {
     "data": {
      "text/html": [
       "<div>\n",
       "<style scoped>\n",
       "    .dataframe tbody tr th:only-of-type {\n",
       "        vertical-align: middle;\n",
       "    }\n",
       "\n",
       "    .dataframe tbody tr th {\n",
       "        vertical-align: top;\n",
       "    }\n",
       "\n",
       "    .dataframe thead th {\n",
       "        text-align: right;\n",
       "    }\n",
       "</style>\n",
       "<table border=\"1\" class=\"dataframe\">\n",
       "  <thead>\n",
       "    <tr style=\"text-align: right;\">\n",
       "      <th></th>\n",
       "      <th>lights</th>\n",
       "      <th>acs</th>\n",
       "      <th>plug</th>\n",
       "      <th>Power_consumption</th>\n",
       "    </tr>\n",
       "    <tr>\n",
       "      <th>Date</th>\n",
       "      <th></th>\n",
       "      <th></th>\n",
       "      <th></th>\n",
       "      <th></th>\n",
       "    </tr>\n",
       "  </thead>\n",
       "  <tbody>\n",
       "    <tr>\n",
       "      <th>2018-07-01 00:00:00</th>\n",
       "      <td>73.675167</td>\n",
       "      <td>45.472833</td>\n",
       "      <td>36.477000</td>\n",
       "      <td>155.625000</td>\n",
       "    </tr>\n",
       "    <tr>\n",
       "      <th>2018-07-01 01:00:00</th>\n",
       "      <td>73.970167</td>\n",
       "      <td>45.849500</td>\n",
       "      <td>36.867333</td>\n",
       "      <td>156.687000</td>\n",
       "    </tr>\n",
       "    <tr>\n",
       "      <th>2018-07-01 02:00:00</th>\n",
       "      <td>73.782667</td>\n",
       "      <td>45.831833</td>\n",
       "      <td>36.668000</td>\n",
       "      <td>156.282500</td>\n",
       "    </tr>\n",
       "    <tr>\n",
       "      <th>2018-07-01 03:00:00</th>\n",
       "      <td>73.122167</td>\n",
       "      <td>45.616667</td>\n",
       "      <td>35.607667</td>\n",
       "      <td>154.346500</td>\n",
       "    </tr>\n",
       "    <tr>\n",
       "      <th>2018-07-01 04:00:00</th>\n",
       "      <td>83.146000</td>\n",
       "      <td>45.502833</td>\n",
       "      <td>33.766000</td>\n",
       "      <td>162.414833</td>\n",
       "    </tr>\n",
       "    <tr>\n",
       "      <th>...</th>\n",
       "      <td>...</td>\n",
       "      <td>...</td>\n",
       "      <td>...</td>\n",
       "      <td>...</td>\n",
       "    </tr>\n",
       "    <tr>\n",
       "      <th>2019-12-31 19:00:00</th>\n",
       "      <td>68.292167</td>\n",
       "      <td>23.921333</td>\n",
       "      <td>19.171833</td>\n",
       "      <td>111.385333</td>\n",
       "    </tr>\n",
       "    <tr>\n",
       "      <th>2019-12-31 20:00:00</th>\n",
       "      <td>68.485333</td>\n",
       "      <td>28.528000</td>\n",
       "      <td>19.147667</td>\n",
       "      <td>116.161000</td>\n",
       "    </tr>\n",
       "    <tr>\n",
       "      <th>2019-12-31 21:00:00</th>\n",
       "      <td>53.983000</td>\n",
       "      <td>22.726333</td>\n",
       "      <td>19.749833</td>\n",
       "      <td>96.459167</td>\n",
       "    </tr>\n",
       "    <tr>\n",
       "      <th>2019-12-31 22:00:00</th>\n",
       "      <td>44.870833</td>\n",
       "      <td>21.765000</td>\n",
       "      <td>20.190833</td>\n",
       "      <td>86.826667</td>\n",
       "    </tr>\n",
       "    <tr>\n",
       "      <th>2019-12-31 23:00:00</th>\n",
       "      <td>38.086667</td>\n",
       "      <td>22.838333</td>\n",
       "      <td>19.795833</td>\n",
       "      <td>80.720833</td>\n",
       "    </tr>\n",
       "  </tbody>\n",
       "</table>\n",
       "<p>13176 rows × 4 columns</p>\n",
       "</div>"
      ],
      "text/plain": [
       "                        lights        acs       plug  Power_consumption\n",
       "Date                                                                   \n",
       "2018-07-01 00:00:00  73.675167  45.472833  36.477000         155.625000\n",
       "2018-07-01 01:00:00  73.970167  45.849500  36.867333         156.687000\n",
       "2018-07-01 02:00:00  73.782667  45.831833  36.668000         156.282500\n",
       "2018-07-01 03:00:00  73.122167  45.616667  35.607667         154.346500\n",
       "2018-07-01 04:00:00  83.146000  45.502833  33.766000         162.414833\n",
       "...                        ...        ...        ...                ...\n",
       "2019-12-31 19:00:00  68.292167  23.921333  19.171833         111.385333\n",
       "2019-12-31 20:00:00  68.485333  28.528000  19.147667         116.161000\n",
       "2019-12-31 21:00:00  53.983000  22.726333  19.749833          96.459167\n",
       "2019-12-31 22:00:00  44.870833  21.765000  20.190833          86.826667\n",
       "2019-12-31 23:00:00  38.086667  22.838333  19.795833          80.720833\n",
       "\n",
       "[13176 rows x 4 columns]"
      ]
     },
     "execution_count": 7,
     "metadata": {},
     "output_type": "execute_result"
    }
   ],
   "source": [
    "df1=final_df.resample('h').mean()\n",
    "df1"
   ]
  },
  {
   "cell_type": "code",
   "execution_count": 8,
   "id": "eb42f4cc",
   "metadata": {},
   "outputs": [
    {
     "data": {
      "text/plain": [
       "[<matplotlib.lines.Line2D at 0x1cd8e5f1d90>]"
      ]
     },
     "execution_count": 8,
     "metadata": {},
     "output_type": "execute_result"
    },
    {
     "data": {
      "image/png": "[encoded data removed]",
      "text/plain": [
       "<Figure size 432x288 with 1 Axes>"
      ]
     },
     "metadata": {
      "needs_background": "light"
     },
     "output_type": "display_data"
    }
   ],
   "source": [
    "import matplotlib.pyplot as plt\n",
    "plt.plot(df1.plug)"
   ]
  },
  {
   "cell_type": "code",
   "execution_count": 9,
   "id": "a485c07d",
   "metadata": {},
   "outputs": [],
   "source": [
    "#scaler=MinMaxScaler(feature_range=(0,1))\n",
    "#df1=scaler.fit_transform(np.array(df1).reshape(-1,1))\n",
    "scaler=MinMaxScaler(feature_range=(0,1))\n",
    "y=scaler.fit_transform(np.array(df1['Power_consumption']).reshape(-1,1))\n"
   ]
  },
  {
   "cell_type": "code",
   "execution_count": 10,
   "id": "ec12038a",
   "metadata": {
    "scrolled": false
   },
   "outputs": [
    {
     "data": {
      "text/plain": [
       "[<matplotlib.lines.Line2D at 0x1cd8e84f3a0>]"
      ]
     },
     "execution_count": 10,
     "metadata": {},
     "output_type": "execute_result"
    },
    {
     "data": {
      "image/png": "[encoded data removed]",
      "text/plain": [
       "<Figure size 432x288 with 1 Axes>"
      ]
     },
     "metadata": {
      "needs_background": "light"
     },
     "output_type": "display_data"
    }
   ],
   "source": [
    "\n",
    "plt.plot(y)"
   ]
  },
  {
   "cell_type": "code",
   "execution_count": 11,
   "id": "d288f1ce",
   "metadata": {},
   "outputs": [],
   "source": [
    "#train=int(len(y)*0.65)\n",
    "#test=len(y)-train\n",
    "#train_val,test_val=y[0:train],y[train:len(y)]\n",
    "#train=y.iloc[:x]\n",
    "#test=len(y)-train#.iloc[x:]\n",
    "#print(train.shape,test.shape)"
   ]
  },
  {
   "cell_type": "code",
   "execution_count": 12,
   "id": "5dc08893",
   "metadata": {},
   "outputs": [],
   "source": [
    "training_size=int(len(y)*0.65)\n",
    "test_size=len(df1)-training_size\n",
    "train_data,test_data=y[0:training_size,:],y[training_size:len(df1),:1]"
   ]
  },
  {
   "cell_type": "code",
   "execution_count": 13,
   "id": "202022bf",
   "metadata": {},
   "outputs": [],
   "source": [
    "import numpy\n",
    "# convert an array of values into a dataset matrix\n",
    "def create_dataset(dataset, time_step=1):\n",
    "\tdataX, dataY = [], []\n",
    "\tfor i in range(len(dataset)-time_step-1):\n",
    "\t\ta = dataset[i:(i+time_step), 0]   ###i=0, 0,1,2,3-----99   100 \n",
    "\t\tdataX.append(a)\n",
    "\t\tdataY.append(dataset[i + time_step, 0])\n",
    "\treturn numpy.array(dataX), numpy.array(dataY)"
   ]
  },
  {
   "cell_type": "code",
   "execution_count": null,
   "id": "b0783e90",
   "metadata": {},
   "outputs": [],
   "source": []
  },
  {
   "cell_type": "code",
   "execution_count": 14,
   "id": "9bd1bb58",
   "metadata": {},
   "outputs": [],
   "source": [
    "time_step = 24\n",
    "X_train, y_train = create_dataset(train_data, time_step)\n",
    "X_test, y_test = create_dataset(test_data, time_step)"
   ]
  },
  {
   "cell_type": "code",
   "execution_count": 15,
   "id": "2c7891d6",
   "metadata": {},
   "outputs": [],
   "source": [
    "# reshape input to be [samples, time steps, features] which is required for LSTM\n",
    "X_train =X_train.reshape(X_train.shape[0],X_train.shape[1] , 1)\n",
    "X_test = X_test.reshape(X_test.shape[0],X_test.shape[1] , 1)\n"
   ]
  },
  {
   "cell_type": "code",
   "execution_count": 16,
   "id": "7ac4e17d",
   "metadata": {},
   "outputs": [],
   "source": [
    "model=Sequential()\n",
    "model.add(LSTM(50,return_sequences=True,input_shape=(24,1)))\n",
    "model.add(LSTM(50,return_sequences=True))\n",
    "model.add(LSTM(50))\n",
    "model.add(Dense(1))\n",
    "model.compile(loss='mean_squared_error',optimizer='adam')"
   ]
  },
  {
   "cell_type": "code",
   "execution_count": 17,
   "id": "d4ae789a",
   "metadata": {},
   "outputs": [
    {
     "name": "stdout",
     "output_type": "stream",
     "text": [
      "Model: \"sequential\"\n",
      "_________________________________________________________________\n",
      " Layer (type)                Output Shape              Param #   \n",
      "=================================================================\n",
      " lstm (LSTM)                 (None, 24, 50)            10400     \n",
      "                                                                 \n",
      " lstm_1 (LSTM)               (None, 24, 50)            20200     \n",
      "                                                                 \n",
      " lstm_2 (LSTM)               (None, 50)                20200     \n",
      "                                                                 \n",
      " dense (Dense)               (None, 1)                 51        \n",
      "                                                                 \n",
      "=================================================================\n",
      "Total params: 50,851\n",
      "Trainable params: 50,851\n",
      "Non-trainable params: 0\n",
      "_________________________________________________________________\n"
     ]
    }
   ],
   "source": [
    "model.summary()"
   ]
  },
  {
   "cell_type": "code",
   "execution_count": 18,
   "id": "287e76bf",
   "metadata": {},
   "outputs": [
    {
     "name": "stdout",
     "output_type": "stream",
     "text": [
      "Epoch 1/100\n",
      "134/134 [==============================] - 7s 32ms/step - loss: 0.0258 - val_loss: 0.0180\n",
      "Epoch 2/100\n",
      "134/134 [==============================] - 4s 27ms/step - loss: 0.0136 - val_loss: 0.0160\n",
      "Epoch 3/100\n",
      "134/134 [==============================] - 4s 27ms/step - loss: 0.0111 - val_loss: 0.0091\n",
      "Epoch 4/100\n",
      "134/134 [==============================] - 4s 27ms/step - loss: 0.0073 - val_loss: 0.0054\n",
      "Epoch 5/100\n",
      "134/134 [==============================] - 5s 38ms/step - loss: 0.0053 - val_loss: 0.0050\n",
      "Epoch 6/100\n",
      "134/134 [==============================] - 5s 35ms/step - loss: 0.0052 - val_loss: 0.0046\n",
      "Epoch 7/100\n",
      "134/134 [==============================] - 5s 35ms/step - loss: 0.0051 - val_loss: 0.0051\n",
      "Epoch 8/100\n",
      "134/134 [==============================] - 4s 34ms/step - loss: 0.0049 - val_loss: 0.0059\n",
      "Epoch 9/100\n",
      "134/134 [==============================] - 5s 36ms/step - loss: 0.0049 - val_loss: 0.0047\n",
      "Epoch 10/100\n",
      "134/134 [==============================] - 4s 33ms/step - loss: 0.0049 - val_loss: 0.0045\n",
      "Epoch 11/100\n",
      "134/134 [==============================] - 4s 33ms/step - loss: 0.0050 - val_loss: 0.0045\n",
      "Epoch 12/100\n",
      "134/134 [==============================] - 4s 32ms/step - loss: 0.0048 - val_loss: 0.0047\n",
      "Epoch 13/100\n",
      "134/134 [==============================] - 4s 31ms/step - loss: 0.0048 - val_loss: 0.0045\n",
      "Epoch 14/100\n",
      "134/134 [==============================] - 4s 32ms/step - loss: 0.0048 - val_loss: 0.0046\n",
      "Epoch 15/100\n",
      "134/134 [==============================] - 4s 32ms/step - loss: 0.0047 - val_loss: 0.0044\n",
      "Epoch 16/100\n",
      "134/134 [==============================] - 4s 33ms/step - loss: 0.0047 - val_loss: 0.0044\n",
      "Epoch 17/100\n",
      "134/134 [==============================] - 4s 32ms/step - loss: 0.0045 - val_loss: 0.0046\n",
      "Epoch 18/100\n",
      "134/134 [==============================] - 4s 32ms/step - loss: 0.0045 - val_loss: 0.0049\n",
      "Epoch 19/100\n",
      "134/134 [==============================] - 4s 32ms/step - loss: 0.0045 - val_loss: 0.0044\n",
      "Epoch 20/100\n",
      "134/134 [==============================] - 4s 33ms/step - loss: 0.0045 - val_loss: 0.0046\n",
      "Epoch 21/100\n",
      "134/134 [==============================] - 5s 36ms/step - loss: 0.0045 - val_loss: 0.0046\n",
      "Epoch 22/100\n",
      "134/134 [==============================] - 5s 35ms/step - loss: 0.0043 - val_loss: 0.0042\n",
      "Epoch 23/100\n",
      "134/134 [==============================] - 5s 34ms/step - loss: 0.0043 - val_loss: 0.0042\n",
      "Epoch 24/100\n",
      "134/134 [==============================] - 5s 35ms/step - loss: 0.0042 - val_loss: 0.0042\n",
      "Epoch 25/100\n",
      "134/134 [==============================] - 5s 34ms/step - loss: 0.0043 - val_loss: 0.0042\n",
      "Epoch 26/100\n",
      "134/134 [==============================] - 5s 34ms/step - loss: 0.0042 - val_loss: 0.0041\n",
      "Epoch 27/100\n",
      "134/134 [==============================] - 5s 34ms/step - loss: 0.0042 - val_loss: 0.0050\n",
      "Epoch 28/100\n",
      "134/134 [==============================] - 5s 36ms/step - loss: 0.0043 - val_loss: 0.0040\n",
      "Epoch 29/100\n",
      "134/134 [==============================] - 5s 35ms/step - loss: 0.0041 - val_loss: 0.0041\n",
      "Epoch 30/100\n",
      "134/134 [==============================] - 5s 35ms/step - loss: 0.0042 - val_loss: 0.0041\n",
      "Epoch 31/100\n",
      "134/134 [==============================] - 5s 35ms/step - loss: 0.0042 - val_loss: 0.0045\n",
      "Epoch 32/100\n",
      "134/134 [==============================] - 5s 34ms/step - loss: 0.0041 - val_loss: 0.0054\n",
      "Epoch 33/100\n",
      "134/134 [==============================] - 5s 35ms/step - loss: 0.0040 - val_loss: 0.0040\n",
      "Epoch 34/100\n",
      "134/134 [==============================] - 5s 35ms/step - loss: 0.0040 - val_loss: 0.0040\n",
      "Epoch 35/100\n",
      "134/134 [==============================] - 5s 34ms/step - loss: 0.0040 - val_loss: 0.0038\n",
      "Epoch 36/100\n",
      "134/134 [==============================] - 5s 35ms/step - loss: 0.0040 - val_loss: 0.0037\n",
      "Epoch 37/100\n",
      "134/134 [==============================] - 5s 35ms/step - loss: 0.0039 - val_loss: 0.0038\n",
      "Epoch 38/100\n",
      "134/134 [==============================] - 4s 34ms/step - loss: 0.0039 - val_loss: 0.0039\n",
      "Epoch 39/100\n",
      "134/134 [==============================] - 5s 34ms/step - loss: 0.0038 - val_loss: 0.0038\n",
      "Epoch 40/100\n",
      "134/134 [==============================] - 5s 36ms/step - loss: 0.0039 - val_loss: 0.0037\n",
      "Epoch 41/100\n",
      "134/134 [==============================] - 5s 34ms/step - loss: 0.0038 - val_loss: 0.0038\n",
      "Epoch 42/100\n",
      "134/134 [==============================] - 5s 35ms/step - loss: 0.0038 - val_loss: 0.0038\n",
      "Epoch 43/100\n",
      "134/134 [==============================] - 5s 34ms/step - loss: 0.0037 - val_loss: 0.0038\n",
      "Epoch 44/100\n",
      "134/134 [==============================] - 5s 34ms/step - loss: 0.0037 - val_loss: 0.0039\n",
      "Epoch 45/100\n",
      "134/134 [==============================] - 5s 34ms/step - loss: 0.0037 - val_loss: 0.0038\n",
      "Epoch 46/100\n",
      "134/134 [==============================] - 5s 34ms/step - loss: 0.0038 - val_loss: 0.0036\n",
      "Epoch 47/100\n",
      "134/134 [==============================] - 5s 35ms/step - loss: 0.0037 - val_loss: 0.0039\n",
      "Epoch 48/100\n",
      "134/134 [==============================] - 5s 36ms/step - loss: 0.0037 - val_loss: 0.0041\n",
      "Epoch 49/100\n",
      "134/134 [==============================] - 5s 36ms/step - loss: 0.0037 - val_loss: 0.0035\n",
      "Epoch 50/100\n",
      "134/134 [==============================] - 5s 35ms/step - loss: 0.0037 - val_loss: 0.0037\n",
      "Epoch 51/100\n",
      "134/134 [==============================] - 5s 35ms/step - loss: 0.0037 - val_loss: 0.0037\n",
      "Epoch 52/100\n",
      "134/134 [==============================] - 5s 36ms/step - loss: 0.0036 - val_loss: 0.0038\n",
      "Epoch 53/100\n",
      "134/134 [==============================] - 6s 43ms/step - loss: 0.0036 - val_loss: 0.0035\n",
      "Epoch 54/100\n",
      "134/134 [==============================] - 5s 41ms/step - loss: 0.0036 - val_loss: 0.0038\n",
      "Epoch 55/100\n",
      "134/134 [==============================] - 5s 36ms/step - loss: 0.0037 - val_loss: 0.0040\n",
      "Epoch 56/100\n",
      "134/134 [==============================] - 6s 48ms/step - loss: 0.0036 - val_loss: 0.0035\n",
      "Epoch 57/100\n",
      "134/134 [==============================] - 5s 39ms/step - loss: 0.0036 - val_loss: 0.0035\n",
      "Epoch 58/100\n",
      "134/134 [==============================] - 5s 36ms/step - loss: 0.0036 - val_loss: 0.0039\n",
      "Epoch 59/100\n",
      "134/134 [==============================] - 5s 36ms/step - loss: 0.0036 - val_loss: 0.0035\n",
      "Epoch 60/100\n",
      "134/134 [==============================] - 5s 39ms/step - loss: 0.0035 - val_loss: 0.0038\n",
      "Epoch 61/100\n",
      "134/134 [==============================] - 5s 39ms/step - loss: 0.0035 - val_loss: 0.0036\n",
      "Epoch 62/100\n",
      "134/134 [==============================] - 6s 43ms/step - loss: 0.0035 - val_loss: 0.0037\n",
      "Epoch 63/100\n",
      "134/134 [==============================] - 5s 39ms/step - loss: 0.0036 - val_loss: 0.0035\n",
      "Epoch 64/100\n",
      "134/134 [==============================] - 5s 39ms/step - loss: 0.0035 - val_loss: 0.0037\n",
      "Epoch 65/100\n",
      "134/134 [==============================] - 5s 39ms/step - loss: 0.0035 - val_loss: 0.0037\n",
      "Epoch 66/100\n",
      "134/134 [==============================] - 6s 43ms/step - loss: 0.0035 - val_loss: 0.0037\n",
      "Epoch 67/100\n",
      "134/134 [==============================] - 5s 38ms/step - loss: 0.0035 - val_loss: 0.0037\n",
      "Epoch 68/100\n",
      "134/134 [==============================] - 5s 35ms/step - loss: 0.0035 - val_loss: 0.0037\n",
      "Epoch 69/100\n",
      "134/134 [==============================] - 5s 35ms/step - loss: 0.0035 - val_loss: 0.0036\n",
      "Epoch 70/100\n",
      "134/134 [==============================] - 5s 37ms/step - loss: 0.0035 - val_loss: 0.0036\n",
      "Epoch 71/100\n",
      "134/134 [==============================] - 5s 35ms/step - loss: 0.0035 - val_loss: 0.0036\n",
      "Epoch 72/100\n",
      "134/134 [==============================] - 6s 43ms/step - loss: 0.0035 - val_loss: 0.0041\n",
      "Epoch 73/100\n",
      "134/134 [==============================] - 6s 41ms/step - loss: 0.0035 - val_loss: 0.0036\n",
      "Epoch 74/100\n",
      "134/134 [==============================] - 6s 41ms/step - loss: 0.0035 - val_loss: 0.0035\n",
      "Epoch 75/100\n",
      "134/134 [==============================] - 5s 35ms/step - loss: 0.0035 - val_loss: 0.0035\n",
      "Epoch 76/100\n",
      "134/134 [==============================] - 5s 35ms/step - loss: 0.0034 - val_loss: 0.0038\n",
      "Epoch 77/100\n",
      "134/134 [==============================] - 5s 35ms/step - loss: 0.0034 - val_loss: 0.0038\n",
      "Epoch 78/100\n",
      "134/134 [==============================] - 5s 35ms/step - loss: 0.0034 - val_loss: 0.0037\n",
      "Epoch 79/100\n",
      "134/134 [==============================] - 5s 35ms/step - loss: 0.0035 - val_loss: 0.0036\n",
      "Epoch 80/100\n",
      "134/134 [==============================] - 5s 35ms/step - loss: 0.0035 - val_loss: 0.0036\n",
      "Epoch 81/100\n",
      "134/134 [==============================] - 5s 34ms/step - loss: 0.0035 - val_loss: 0.0036\n",
      "Epoch 82/100\n",
      "134/134 [==============================] - 5s 34ms/step - loss: 0.0034 - val_loss: 0.0036\n",
      "Epoch 83/100\n",
      "134/134 [==============================] - 4s 33ms/step - loss: 0.0034 - val_loss: 0.0038\n",
      "Epoch 84/100\n",
      "134/134 [==============================] - 4s 33ms/step - loss: 0.0034 - val_loss: 0.0038\n",
      "Epoch 85/100\n",
      "134/134 [==============================] - 4s 33ms/step - loss: 0.0035 - val_loss: 0.0038\n",
      "Epoch 86/100\n",
      "134/134 [==============================] - 4s 33ms/step - loss: 0.0034 - val_loss: 0.0037\n",
      "Epoch 87/100\n",
      "134/134 [==============================] - 4s 33ms/step - loss: 0.0034 - val_loss: 0.0036\n",
      "Epoch 88/100\n",
      "134/134 [==============================] - 4s 33ms/step - loss: 0.0034 - val_loss: 0.0036\n",
      "Epoch 89/100\n",
      "134/134 [==============================] - 4s 33ms/step - loss: 0.0034 - val_loss: 0.0035\n",
      "Epoch 90/100\n",
      "134/134 [==============================] - 4s 33ms/step - loss: 0.0034 - val_loss: 0.0035\n",
      "Epoch 91/100\n",
      "134/134 [==============================] - 4s 34ms/step - loss: 0.0034 - val_loss: 0.0035\n",
      "Epoch 92/100\n",
      "134/134 [==============================] - 5s 38ms/step - loss: 0.0034 - val_loss: 0.0037\n",
      "Epoch 93/100\n",
      "134/134 [==============================] - 4s 33ms/step - loss: 0.0033 - val_loss: 0.0040\n",
      "Epoch 94/100\n",
      "134/134 [==============================] - 5s 35ms/step - loss: 0.0034 - val_loss: 0.0037\n",
      "Epoch 95/100\n",
      "134/134 [==============================] - 6s 44ms/step - loss: 0.0034 - val_loss: 0.0036\n",
      "Epoch 96/100\n",
      "134/134 [==============================] - 5s 39ms/step - loss: 0.0034 - val_loss: 0.0037\n",
      "Epoch 97/100\n",
      "134/134 [==============================] - 5s 35ms/step - loss: 0.0034 - val_loss: 0.0036\n",
      "Epoch 98/100\n",
      "134/134 [==============================] - 5s 37ms/step - loss: 0.0034 - val_loss: 0.0036\n",
      "Epoch 99/100\n",
      "134/134 [==============================] - 5s 37ms/step - loss: 0.0033 - val_loss: 0.0035\n",
      "Epoch 100/100\n",
      "134/134 [==============================] - 5s 37ms/step - loss: 0.0034 - val_loss: 0.0039\n"
     ]
    },
    {
     "data": {
      "text/plain": [
       "<keras.callbacks.History at 0x1cd8fbb7af0>"
      ]
     },
     "execution_count": 18,
     "metadata": {},
     "output_type": "execute_result"
    }
   ],
   "source": [
    "model.fit(X_train,y_train,validation_data=(X_test,y_test),epochs=100,batch_size=64,verbose=1)"
   ]
  },
  {
   "cell_type": "code",
   "execution_count": 57,
   "id": "fb92337a",
   "metadata": {
    "scrolled": true
   },
   "outputs": [
    {
     "name": "stdout",
     "output_type": "stream",
     "text": [
      "267/267 [==============================] - 6s 20ms/step\n",
      "144/144 [==============================] - 3s 20ms/step\n"
     ]
    }
   ],
   "source": [
    "### Lets Do the prediction and check performance metrics\n",
    "train_predict=model.predict(X_train)\n",
    "test_predict=model.predict(X_test)\n"
   ]
  },
  {
   "cell_type": "code",
   "execution_count": 58,
   "id": "6694dfdf",
   "metadata": {},
   "outputs": [],
   "source": [
    "##Transformback to original form\n",
    "train_predict=scaler.inverse_transform(train_predict)\n",
    "test_predict=scaler.inverse_transform(test_predict)\n"
   ]
  },
  {
   "cell_type": "code",
   "execution_count": 59,
   "id": "17a5dd7f",
   "metadata": {},
   "outputs": [
    {
     "data": {
      "text/plain": [
       "116.9103923881495"
      ]
     },
     "execution_count": 59,
     "metadata": {},
     "output_type": "execute_result"
    }
   ],
   "source": [
    "### Calculate RMSE performance metrics\n",
    "import math\n",
    "from sklearn.metrics import mean_squared_error\n",
    "math.sqrt(mean_squared_error(y_train,train_predict))\n"
   ]
  },
  {
   "cell_type": "code",
   "execution_count": 60,
   "id": "4527cdd1",
   "metadata": {},
   "outputs": [
    {
     "data": {
      "text/plain": [
       "106.22572696254646"
      ]
     },
     "execution_count": 60,
     "metadata": {},
     "output_type": "execute_result"
    }
   ],
   "source": [
    "### Test Data RMSE\n",
    "math.sqrt(mean_squared_error(y_test,test_predict))"
   ]
  },
  {
   "cell_type": "code",
   "execution_count": null,
   "id": "277cb610",
   "metadata": {},
   "outputs": [],
   "source": []
  },
  {
   "cell_type": "code",
   "execution_count": 61,
   "id": "9084b505",
   "metadata": {},
   "outputs": [
    {
     "name": "stdout",
     "output_type": "stream",
     "text": [
      "MAE: 98.8968260202148\n",
      "RSME: 9.944688331979782\n",
      "MSE:  106.22572696254646\n"
     ]
    }
   ],
   "source": [
    "from sklearn import metrics\n",
    "print ('MAE:', metrics.mean_absolute_error(test_predict, y_test))\n",
    "# print ('MSE:', metrics.mean_squared_error(test_predict, y_test))\n",
    "print ('RSME:', np.sqrt(metrics.mean_absolute_error(test_predict, y_test)))\n",
    "\n",
    "print('MSE: ',np.sqrt(mean_squared_error(test_predict, y_test)))\n",
    "\n",
    "# from sklearn.metrics import r2_score\n",
    "# Accuracy=r2_score(test_predict, y_test)*100\n",
    "# print(\" Accuracy of the model is %.2f\" %Accuracy)"
   ]
  },
  {
   "cell_type": "code",
   "execution_count": 62,
   "id": "137080b7",
   "metadata": {},
   "outputs": [
    {
     "data": {
      "image/png": "[encoded data removed]",
      "text/plain": [
       "<Figure size 432x288 with 1 Axes>"
      ]
     },
     "metadata": {
      "needs_background": "light"
     },
     "output_type": "display_data"
    }
   ],
   "source": [
    "### Plotting \n",
    "# shift train predictions for plotting\n",
    "look_back=24\n",
    "trainPredictPlot = numpy.empty_like(y)\n",
    "trainPredictPlot[:, :] = np.nan\n",
    "trainPredictPlot[look_back:len(train_predict)+look_back, :] = train_predict\n",
    "# shift test predictions for plotting\n",
    "testPredictPlot = numpy.empty_like(y)\n",
    "testPredictPlot[:, :] = numpy.nan\n",
    "testPredictPlot[len(train_predict)+(look_back*2)+1:len(y)-1, :] = test_predict\n",
    "# plot baseline and predictions\n",
    "plt.plot(scaler.inverse_transform(y))\n",
    "plt.plot(trainPredictPlot)\n",
    "plt.plot(testPredictPlot)\n",
    "plt.show()"
   ]
  },
  {
   "cell_type": "code",
   "execution_count": 63,
   "id": "8a663592",
   "metadata": {},
   "outputs": [
    {
     "data": {
      "text/plain": [
       "4612"
      ]
     },
     "execution_count": 63,
     "metadata": {},
     "output_type": "execute_result"
    }
   ],
   "source": [
    "len(test_data)"
   ]
  },
  {
   "cell_type": "code",
   "execution_count": 64,
   "id": "1488a59d",
   "metadata": {},
   "outputs": [
    {
     "data": {
      "text/plain": [
       "array([[0.19760728, 0.21305714, 0.2751291 , 0.27177201, 0.2966867 ,\n",
       "        0.2948215 , 0.21266898, 0.10228732, 0.1045581 , 0.11630598,\n",
       "        0.10914036, 0.12065057, 0.12433123, 0.14539604, 0.14457905,\n",
       "        0.12040773, 0.20239104, 0.28953205, 0.26670344, 0.31813708,\n",
       "        0.33664306, 0.26029732, 0.22297083, 0.19931037]])"
      ]
     },
     "execution_count": 64,
     "metadata": {},
     "output_type": "execute_result"
    }
   ],
   "source": [
    "x_input=test_data[4588:].reshape(1,-1)\n",
    "x_input"
   ]
  },
  {
   "cell_type": "code",
   "execution_count": 65,
   "id": "a46e8adc",
   "metadata": {},
   "outputs": [],
   "source": [
    "temp_input=list(x_input)\n",
    "temp_input=temp_input[0].tolist()"
   ]
  },
  {
   "cell_type": "code",
   "execution_count": 66,
   "id": "cc0d5bc1",
   "metadata": {},
   "outputs": [
    {
     "data": {
      "text/plain": [
       "[0.19760728097527458,\n",
       " 0.21305713643561858,\n",
       " 0.2751291040091348,\n",
       " 0.2717720122658497,\n",
       " 0.29668669640988815,\n",
       " 0.29482150192073703,\n",
       " 0.2126689848123568,\n",
       " 0.10228731745248533,\n",
       " 0.10455810132501143,\n",
       " 0.11630598489760806,\n",
       " 0.10914035717699459,\n",
       " 0.12065057053767721,\n",
       " 0.12433122960750835,\n",
       " 0.14539604382432042,\n",
       " 0.14457905247086605,\n",
       " 0.12040773358202593,\n",
       " 0.20239103983301088,\n",
       " 0.2895320480197163,\n",
       " 0.26670343665959684,\n",
       " 0.31813707887809334,\n",
       " 0.336643063259027,\n",
       " 0.2602973202683607,\n",
       " 0.2229708259814876,\n",
       " 0.19931036887966913]"
      ]
     },
     "execution_count": 66,
     "metadata": {},
     "output_type": "execute_result"
    }
   ],
   "source": [
    "temp_input"
   ]
  },
  {
   "cell_type": "code",
   "execution_count": 67,
   "id": "0e2da22d",
   "metadata": {},
   "outputs": [
    {
     "data": {
      "text/plain": [
       "array([[0.19760728, 0.21305714, 0.2751291 , 0.27177201, 0.2966867 ,\n",
       "        0.2948215 , 0.21266898, 0.10228732, 0.1045581 , 0.11630598,\n",
       "        0.10914036, 0.12065057, 0.12433123, 0.14539604, 0.14457905,\n",
       "        0.12040773, 0.20239104, 0.28953205, 0.26670344, 0.31813708,\n",
       "        0.33664306, 0.26029732, 0.22297083, 0.19931037]])"
      ]
     },
     "execution_count": 67,
     "metadata": {},
     "output_type": "execute_result"
    }
   ],
   "source": [
    "x_input"
   ]
  },
  {
   "cell_type": "code",
   "execution_count": 68,
   "id": "a1334462",
   "metadata": {},
   "outputs": [
    {
     "name": "stdout",
     "output_type": "stream",
     "text": [
      "[0.19849913]\n",
      "25\n",
      "1 day input [0.21305714 0.2751291  0.27177201 0.2966867  0.2948215  0.21266898\n",
      " 0.10228732 0.1045581  0.11630598 0.10914036 0.12065057 0.12433123\n",
      " 0.14539604 0.14457905 0.12040773 0.20239104 0.28953205 0.26670344\n",
      " 0.31813708 0.33664306 0.26029732 0.22297083 0.19931037 0.19849913]\n",
      "1 day output [[0.19774888]]\n",
      "2 day input [0.2751291  0.27177201 0.2966867  0.2948215  0.21266898 0.10228732\n",
      " 0.1045581  0.11630598 0.10914036 0.12065057 0.12433123 0.14539604\n",
      " 0.14457905 0.12040773 0.20239104 0.28953205 0.26670344 0.31813708\n",
      " 0.33664306 0.26029732 0.22297083 0.19931037 0.19849913 0.19774888]\n",
      "2 day output [[0.19953921]]\n",
      "3 day input [0.27177201 0.2966867  0.2948215  0.21266898 0.10228732 0.1045581\n",
      " 0.11630598 0.10914036 0.12065057 0.12433123 0.14539604 0.14457905\n",
      " 0.12040773 0.20239104 0.28953205 0.26670344 0.31813708 0.33664306\n",
      " 0.26029732 0.22297083 0.19931037 0.19849913 0.19774888 0.19953921]\n",
      "3 day output [[0.21391106]]\n",
      "4 day input [0.2966867  0.2948215  0.21266898 0.10228732 0.1045581  0.11630598\n",
      " 0.10914036 0.12065057 0.12433123 0.14539604 0.14457905 0.12040773\n",
      " 0.20239104 0.28953205 0.26670344 0.31813708 0.33664306 0.26029732\n",
      " 0.22297083 0.19931037 0.19849913 0.19774888 0.19953921 0.21391106]\n",
      "4 day output [[0.23344433]]\n",
      "5 day input [0.2948215  0.21266898 0.10228732 0.1045581  0.11630598 0.10914036\n",
      " 0.12065057 0.12433123 0.14539604 0.14457905 0.12040773 0.20239104\n",
      " 0.28953205 0.26670344 0.31813708 0.33664306 0.26029732 0.22297083\n",
      " 0.19931037 0.19849913 0.19774888 0.19953921 0.21391106 0.23344433]\n",
      "5 day output [[0.20505555]]\n",
      "6 day input [0.21266898 0.10228732 0.1045581  0.11630598 0.10914036 0.12065057\n",
      " 0.12433123 0.14539604 0.14457905 0.12040773 0.20239104 0.28953205\n",
      " 0.26670344 0.31813708 0.33664306 0.26029732 0.22297083 0.19931037\n",
      " 0.19849913 0.19774888 0.19953921 0.21391106 0.23344433 0.20505555]\n",
      "6 day output [[0.14473897]]\n",
      "7 day input [0.10228732 0.1045581  0.11630598 0.10914036 0.12065057 0.12433123\n",
      " 0.14539604 0.14457905 0.12040773 0.20239104 0.28953205 0.26670344\n",
      " 0.31813708 0.33664306 0.26029732 0.22297083 0.19931037 0.19849913\n",
      " 0.19774888 0.19953921 0.21391106 0.23344433 0.20505555 0.14473897]\n",
      "7 day output [[0.14027008]]\n",
      "8 day input [0.1045581  0.11630598 0.10914036 0.12065057 0.12433123 0.14539604\n",
      " 0.14457905 0.12040773 0.20239104 0.28953205 0.26670344 0.31813708\n",
      " 0.33664306 0.26029732 0.22297083 0.19931037 0.19849913 0.19774888\n",
      " 0.19953921 0.21391106 0.23344433 0.20505555 0.14473897 0.14027008]\n",
      "8 day output [[0.1525023]]\n",
      "9 day input [0.11630598 0.10914036 0.12065057 0.12433123 0.14539604 0.14457905\n",
      " 0.12040773 0.20239104 0.28953205 0.26670344 0.31813708 0.33664306\n",
      " 0.26029732 0.22297083 0.19931037 0.19849913 0.19774888 0.19953921\n",
      " 0.21391106 0.23344433 0.20505555 0.14473897 0.14027008 0.1525023 ]\n",
      "9 day output [[0.16568744]]\n",
      "10 day input [0.10914036 0.12065057 0.12433123 0.14539604 0.14457905 0.12040773\n",
      " 0.20239104 0.28953205 0.26670344 0.31813708 0.33664306 0.26029732\n",
      " 0.22297083 0.19931037 0.19849913 0.19774888 0.19953921 0.21391106\n",
      " 0.23344433 0.20505555 0.14473897 0.14027008 0.1525023  0.16568744]\n",
      "10 day output [[0.17437384]]\n",
      "11 day input [0.12065057 0.12433123 0.14539604 0.14457905 0.12040773 0.20239104\n",
      " 0.28953205 0.26670344 0.31813708 0.33664306 0.26029732 0.22297083\n",
      " 0.19931037 0.19849913 0.19774888 0.19953921 0.21391106 0.23344433\n",
      " 0.20505555 0.14473897 0.14027008 0.1525023  0.16568744 0.17437384]\n",
      "11 day output [[0.18102504]]\n",
      "12 day input [0.12433123 0.14539604 0.14457905 0.12040773 0.20239104 0.28953205\n",
      " 0.26670344 0.31813708 0.33664306 0.26029732 0.22297083 0.19931037\n",
      " 0.19849913 0.19774888 0.19953921 0.21391106 0.23344433 0.20505555\n",
      " 0.14473897 0.14027008 0.1525023  0.16568744 0.17437384 0.18102504]\n",
      "12 day output [[0.18855986]]\n",
      "13 day input [0.14539604 0.14457905 0.12040773 0.20239104 0.28953205 0.26670344\n",
      " 0.31813708 0.33664306 0.26029732 0.22297083 0.19931037 0.19849913\n",
      " 0.19774888 0.19953921 0.21391106 0.23344433 0.20505555 0.14473897\n",
      " 0.14027008 0.1525023  0.16568744 0.17437384 0.18102504 0.18855986]\n",
      "13 day output [[0.19544473]]\n",
      "14 day input [0.14457905 0.12040773 0.20239104 0.28953205 0.26670344 0.31813708\n",
      " 0.33664306 0.26029732 0.22297083 0.19931037 0.19849913 0.19774888\n",
      " 0.19953921 0.21391106 0.23344433 0.20505555 0.14473897 0.14027008\n",
      " 0.1525023  0.16568744 0.17437384 0.18102504 0.18855986 0.19544473]\n",
      "14 day output [[0.19493376]]\n",
      "15 day input [0.12040773 0.20239104 0.28953205 0.26670344 0.31813708 0.33664306\n",
      " 0.26029732 0.22297083 0.19931037 0.19849913 0.19774888 0.19953921\n",
      " 0.21391106 0.23344433 0.20505555 0.14473897 0.14027008 0.1525023\n",
      " 0.16568744 0.17437384 0.18102504 0.18855986 0.19544473 0.19493376]\n",
      "15 day output [[0.20432366]]\n",
      "16 day input [0.20239104 0.28953205 0.26670344 0.31813708 0.33664306 0.26029732\n",
      " 0.22297083 0.19931037 0.19849913 0.19774888 0.19953921 0.21391106\n",
      " 0.23344433 0.20505555 0.14473897 0.14027008 0.1525023  0.16568744\n",
      " 0.17437384 0.18102504 0.18855986 0.19544473 0.19493376 0.20432366]\n",
      "16 day output [[0.24090792]]\n",
      "17 day input [0.28953205 0.26670344 0.31813708 0.33664306 0.26029732 0.22297083\n",
      " 0.19931037 0.19849913 0.19774888 0.19953921 0.21391106 0.23344433\n",
      " 0.20505555 0.14473897 0.14027008 0.1525023  0.16568744 0.17437384\n",
      " 0.18102504 0.18855986 0.19544473 0.19493376 0.20432366 0.24090792]\n",
      "17 day output [[0.29038966]]\n",
      "18 day input [0.26670344 0.31813708 0.33664306 0.26029732 0.22297083 0.19931037\n",
      " 0.19849913 0.19774888 0.19953921 0.21391106 0.23344433 0.20505555\n",
      " 0.14473897 0.14027008 0.1525023  0.16568744 0.17437384 0.18102504\n",
      " 0.18855986 0.19544473 0.19493376 0.20432366 0.24090792 0.29038966]\n",
      "18 day output [[0.32650316]]\n",
      "19 day input [0.31813708 0.33664306 0.26029732 0.22297083 0.19931037 0.19849913\n",
      " 0.19774888 0.19953921 0.21391106 0.23344433 0.20505555 0.14473897\n",
      " 0.14027008 0.1525023  0.16568744 0.17437384 0.18102504 0.18855986\n",
      " 0.19544473 0.19493376 0.20432366 0.24090792 0.29038966 0.32650316]\n",
      "19 day output [[0.3360247]]\n",
      "20 day input [0.33664306 0.26029732 0.22297083 0.19931037 0.19849913 0.19774888\n",
      " 0.19953921 0.21391106 0.23344433 0.20505555 0.14473897 0.14027008\n",
      " 0.1525023  0.16568744 0.17437384 0.18102504 0.18855986 0.19544473\n",
      " 0.19493376 0.20432366 0.24090792 0.29038966 0.32650316 0.3360247 ]\n",
      "20 day output [[0.3234095]]\n",
      "21 day input [0.26029732 0.22297083 0.19931037 0.19849913 0.19774888 0.19953921\n",
      " 0.21391106 0.23344433 0.20505555 0.14473897 0.14027008 0.1525023\n",
      " 0.16568744 0.17437384 0.18102504 0.18855986 0.19544473 0.19493376\n",
      " 0.20432366 0.24090792 0.29038966 0.32650316 0.3360247  0.3234095 ]\n",
      "21 day output [[0.29843575]]\n",
      "22 day input [0.22297083 0.19931037 0.19849913 0.19774888 0.19953921 0.21391106\n",
      " 0.23344433 0.20505555 0.14473897 0.14027008 0.1525023  0.16568744\n",
      " 0.17437384 0.18102504 0.18855986 0.19544473 0.19493376 0.20432366\n",
      " 0.24090792 0.29038966 0.32650316 0.3360247  0.3234095  0.29843575]\n",
      "22 day output [[0.27812582]]\n",
      "23 day input [0.19931037 0.19849913 0.19774888 0.19953921 0.21391106 0.23344433\n",
      " 0.20505555 0.14473897 0.14027008 0.1525023  0.16568744 0.17437384\n",
      " 0.18102504 0.18855986 0.19544473 0.19493376 0.20432366 0.24090792\n",
      " 0.29038966 0.32650316 0.3360247  0.3234095  0.29843575 0.27812582]\n",
      "23 day output [[0.26537472]]\n",
      "24 day input [0.19849913 0.19774888 0.19953921 0.21391106 0.23344433 0.20505555\n",
      " 0.14473897 0.14027008 0.1525023  0.16568744 0.17437384 0.18102504\n",
      " 0.18855986 0.19544473 0.19493376 0.20432366 0.24090792 0.29038966\n",
      " 0.32650316 0.3360247  0.3234095  0.29843575 0.27812582 0.26537472]\n",
      "24 day output [[0.2563591]]\n",
      "25 day input [0.19774888 0.19953921 0.21391106 0.23344433 0.20505555 0.14473897\n",
      " 0.14027008 0.1525023  0.16568744 0.17437384 0.18102504 0.18855986\n",
      " 0.19544473 0.19493376 0.20432366 0.24090792 0.29038966 0.32650316\n",
      " 0.3360247  0.3234095  0.29843575 0.27812582 0.26537472 0.2563591 ]\n",
      "25 day output [[0.24847028]]\n",
      "26 day input [0.19953921 0.21391106 0.23344433 0.20505555 0.14473897 0.14027008\n",
      " 0.1525023  0.16568744 0.17437384 0.18102504 0.18855986 0.19544473\n",
      " 0.19493376 0.20432366 0.24090792 0.29038966 0.32650316 0.3360247\n",
      " 0.3234095  0.29843575 0.27812582 0.26537472 0.2563591  0.24847028]\n",
      "26 day output [[0.24549735]]\n",
      "27 day input [0.21391106 0.23344433 0.20505555 0.14473897 0.14027008 0.1525023\n",
      " 0.16568744 0.17437384 0.18102504 0.18855986 0.19544473 0.19493376\n",
      " 0.20432366 0.24090792 0.29038966 0.32650316 0.3360247  0.3234095\n",
      " 0.29843575 0.27812582 0.26537472 0.2563591  0.24847028 0.24549735]\n",
      "27 day output [[0.25225568]]\n",
      "28 day input [0.23344433 0.20505555 0.14473897 0.14027008 0.1525023  0.16568744\n",
      " 0.17437384 0.18102504 0.18855986 0.19544473 0.19493376 0.20432366\n",
      " 0.24090792 0.29038966 0.32650316 0.3360247  0.3234095  0.29843575\n",
      " 0.27812582 0.26537472 0.2563591  0.24847028 0.24549735 0.25225568]\n",
      "28 day output [[0.24889289]]\n",
      "29 day input [0.20505555 0.14473897 0.14027008 0.1525023  0.16568744 0.17437384\n",
      " 0.18102504 0.18855986 0.19544473 0.19493376 0.20432366 0.24090792\n",
      " 0.29038966 0.32650316 0.3360247  0.3234095  0.29843575 0.27812582\n",
      " 0.26537472 0.2563591  0.24847028 0.24549735 0.25225568 0.24889289]\n",
      "29 day output [[0.20805788]]\n",
      "[[0.19849912822246552], [0.19774888455867767], [0.1995392143726349], [0.2139110565185547], [0.23344433307647705], [0.20505554974079132], [0.14473897218704224], [0.14027008414268494], [0.15250229835510254], [0.1656874418258667], [0.1743738353252411], [0.18102504312992096], [0.1885598599910736], [0.1954447329044342], [0.19493375718593597], [0.2043236643075943], [0.2409079223871231], [0.29038965702056885], [0.3265031576156616], [0.3360247015953064], [0.3234094977378845], [0.2984357476234436], [0.2781258225440979], [0.26537472009658813], [0.2563591003417969], [0.248470276594162], [0.24549734592437744], [0.2522556781768799], [0.2488928884267807], [0.20805788040161133]]\n"
     ]
    }
   ],
   "source": [
    "# demonstrate prediction for next 10 days\n",
    "from numpy import array\n",
    "\n",
    "lst_output=[]\n",
    "n_steps=24\n",
    "i=0\n",
    "while(i<30):\n",
    "    \n",
    "    if(len(temp_input)>24):\n",
    "        #print(temp_input)\n",
    "        x_input=np.array(temp_input[1:])\n",
    "        print(\"{} day input {}\".format(i,x_input))\n",
    "        x_input=x_input.reshape(1,-1)\n",
    "        x_input = x_input.reshape(1, n_steps, 1)\n",
    "        #print(x_input)\n",
    "        yhat = model.predict(x_input, verbose=0)\n",
    "        print(\"{} day output {}\".format(i,yhat))\n",
    "        temp_input.extend(yhat[0].tolist())\n",
    "        temp_input=temp_input[1:]\n",
    "        #print(temp_input)\n",
    "        lst_output.extend(yhat.tolist())\n",
    "        i=i+1\n",
    "    else:\n",
    "        x_input = x_input.reshape((1, n_steps,1))\n",
    "        yhat = model.predict(x_input, verbose=0)\n",
    "        print(yhat[0])\n",
    "        temp_input.extend(yhat[0].tolist())\n",
    "        print(len(temp_input))\n",
    "        lst_output.extend(yhat.tolist())\n",
    "        i=i+1\n",
    "    \n",
    "\n",
    "print(lst_output)"
   ]
  },
  {
   "cell_type": "code",
   "execution_count": 53,
   "id": "6c289580",
   "metadata": {},
   "outputs": [],
   "source": [
    "day_new=np.arange(1,25)\n",
    "day_pred=np.arange(25,55)"
   ]
  },
  {
   "cell_type": "code",
   "execution_count": 54,
   "id": "602accea",
   "metadata": {},
   "outputs": [
    {
     "data": {
      "text/plain": [
       "13176"
      ]
     },
     "execution_count": 54,
     "metadata": {},
     "output_type": "execute_result"
    }
   ],
   "source": [
    "len(y)"
   ]
  },
  {
   "cell_type": "code",
   "execution_count": 69,
   "id": "72b7e3c4",
   "metadata": {},
   "outputs": [
    {
     "data": {
      "text/plain": [
       "<matplotlib.legend.Legend at 0x1de20df9880>"
      ]
     },
     "execution_count": 69,
     "metadata": {},
     "output_type": "execute_result"
    },
    {
     "data": {
      "image/png": "[encoded data removed]",
      "text/plain": [
       "<Figure size 432x288 with 1 Axes>"
      ]
     },
     "metadata": {
      "needs_background": "light"
     },
     "output_type": "display_data"
    }
   ],
   "source": [
    "plt.plot(day_new,scaler.inverse_transform(y[13152:]))\n",
    "plt.plot(day_pred,scaler.inverse_transform(lst_output))\n",
    "plt.xlabel('minutes interval')\n",
    "plt.ylabel('Power_consumption')\n",
    "plt.legend(['Actual Values','Forecasted values'])"
   ]
  },
  {
   "cell_type": "code",
   "execution_count": 58,
   "id": "96826300",
   "metadata": {},
   "outputs": [
    {
     "data": {
      "text/plain": [
       "[<matplotlib.lines.Line2D at 0x1b8af531400>]"
      ]
     },
     "execution_count": 58,
     "metadata": {},
     "output_type": "execute_result"
    },
    {
     "data": {
      "image/png": "[encoded data removed]",
      "text/plain": [
       "<Figure size 432x288 with 1 Axes>"
      ]
     },
     "metadata": {
      "needs_background": "light"
     },
     "output_type": "display_data"
    }
   ],
   "source": [
    "df3=y.tolist()\n",
    "df3.extend(lst_output)\n",
    "plt.plot(df3[13152:])"
   ]
  },
  {
   "cell_type": "code",
   "execution_count": 59,
   "id": "2c991cdf",
   "metadata": {},
   "outputs": [],
   "source": [
    "df3=scaler.inverse_transform(df3).tolist()"
   ]
  },
  {
   "cell_type": "code",
   "execution_count": 60,
   "id": "1cacad13",
   "metadata": {},
   "outputs": [
    {
     "data": {
      "text/plain": [
       "[<matplotlib.lines.Line2D at 0x1b8af483220>]"
      ]
     },
     "execution_count": 60,
     "metadata": {},
     "output_type": "execute_result"
    },
    {
     "data": {
      "image/png": "[encoded data removed]",
      "text/plain": [
       "<Figure size 432x288 with 1 Axes>"
      ]
     },
     "metadata": {
      "needs_background": "light"
     },
     "output_type": "display_data"
    }
   ],
   "source": [
    "plt.plot(df3)"
   ]
  },
  {
   "cell_type": "code",
   "execution_count": null,
   "id": "3052e87d",
   "metadata": {},
   "outputs": [],
   "source": []
  },
  {
   "cell_type": "code",
   "execution_count": null,
   "id": "72edbae3",
   "metadata": {},
   "outputs": [],
   "source": []
  }
 ],
 "metadata": {
  "kernelspec": {
   "display_name": "Python 3 (ipykernel)",
   "language": "python",
   "name": "python3"
  },
  "language_info": {
   "codemirror_mode": {
    "name": "ipython",
    "version": 3
   },
   "file_extension": ".py",
   "mimetype": "text/x-python",
   "name": "python",
   "nbconvert_exporter": "python",
   "pygments_lexer": "ipython3",
   "version": "3.9.12"
  }
 },
 "nbformat": 4,
 "nbformat_minor": 5
}
